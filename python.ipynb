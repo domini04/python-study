{
 "cells": [
  {
   "cell_type": "markdown",
   "metadata": {},
   "source": [
    "<h1>From '101 Things I never Knew about Python' - <a>https://payhip.com/b/vywcf</a>\n",
    "</h1>"
   ]
  },
  {
   "cell_type": "markdown",
   "metadata": {},
   "source": [
    "1) combining dictionaries with unpacking"
   ]
  },
  {
   "cell_type": "code",
   "execution_count": 5,
   "metadata": {},
   "outputs": [
    {
     "name": "stdout",
     "output_type": "stream",
     "text": [
      "{'a': 1, 'b': 2, 'c': 3, 'd': 4}\n"
     ]
    }
   ],
   "source": [
    "a = {'a': 1, 'b': 2}\n",
    "b = {'c': 3, 'd': 4}\n",
    "\n",
    "c = {**a, **b}\n",
    "print(c)"
   ]
  },
  {
   "cell_type": "code",
   "execution_count": 2,
   "metadata": {},
   "outputs": [
    {
     "name": "stdout",
     "output_type": "stream",
     "text": [
      "{'a': 5, 'b': 2, 'c': 3, 'd': 6}\n"
     ]
    }
   ],
   "source": [
    "#When there are conlflicting keys, the last one wins\n",
    "\n",
    "# 2) combining dictionaries with unpacking\n",
    "a = {'a': 1, 'b': 2}\n",
    "b = {'c': 3, 'd': 4}\n",
    "c = {'a': 5, 'd': 6}\n",
    "\n",
    "d = {**a, **b, **c}\n",
    "print(d)\n",
    "\n",
    "\n"
   ]
  },
  {
   "cell_type": "markdown",
   "metadata": {},
   "source": [
    "2. __getattr__"
   ]
  },
  {
   "cell_type": "code",
   "execution_count": 3,
   "metadata": {},
   "outputs": [
    {
     "name": "stdout",
     "output_type": "stream",
     "text": [
      "1\n",
      "2\n",
      "3\n",
      "d\n"
     ]
    }
   ],
   "source": [
    "#when __getattr__ is called on attribute that doesn't exist, it will return the key\n",
    "\n",
    "class A:\n",
    "  def __init__(self, a, b, c):\n",
    "    self.a = a\n",
    "    self.b = b\n",
    "    self.c = c\n",
    "\n",
    "  def __getattr__(self, attr):\n",
    "    return attr\n",
    "\n",
    "a = A(1, 2, 3)\n",
    "print(a.a)\n",
    "print(a.b)\n",
    "print(a.c)\n",
    "\n",
    "print(a.d )"
   ]
  },
  {
   "cell_type": "code",
   "execution_count": 4,
   "metadata": {},
   "outputs": [
    {
     "name": "stdout",
     "output_type": "stream",
     "text": [
      "<__main__.B object at 0x000001AA2D7AEE40>\n",
      "<__main__.B object at 0x000001AA2D7AE330>\n"
     ]
    }
   ],
   "source": [
    "#__getattr__ can be customized to return a new instance of the class\n",
    "\n",
    "class B:\n",
    "  def __getattr__(self, attr):\n",
    "    return B()\n",
    "  \n",
    "b = B()\n",
    "print(b.a)\n",
    "print(b.a.a)\n"
   ]
  },
  {
   "cell_type": "markdown",
   "metadata": {},
   "source": [
    "3.pretty print"
   ]
  },
  {
   "cell_type": "code",
   "execution_count": 2,
   "metadata": {},
   "outputs": [
    {
     "name": "stdout",
     "output_type": "stream",
     "text": [
      "{'x': {'a': 1, 'b': 2, 'c': 3}, 'y': {'a': 3, 'b': 4, 'c': 5}, 'z': {'a': 5, 'b': 6, 'c': 7}}\n",
      "{'x': {'a': 1, 'b': 2, 'c': 3},\n",
      " 'y': {'a': 3, 'b': 4, 'c': 5},\n",
      " 'z': {'a': 5, 'b': 6, 'c': 7}}\n"
     ]
    }
   ],
   "source": [
    "double_dict = {\n",
    "  'x' : {\"a\" : 1, \"b\" : 2, \"c\" : 3},\n",
    "  'y' : {\"a\" : 3, \"b\" : 4, \"c\" : 5},\n",
    "  'z' : {\"a\" : 5, \"b\" : 6, \"c\" : 7},\n",
    "}\n",
    "\n",
    "print(double_dict)\n",
    "\n",
    "from pprint import pprint\n",
    "pprint(double_dict)\n",
    "\n",
    "\n",
    "\n",
    "\n",
    "\n",
    "\n"
   ]
  },
  {
   "cell_type": "markdown",
   "metadata": {},
   "source": [
    "4. Get all alphabet"
   ]
  },
  {
   "cell_type": "code",
   "execution_count": 3,
   "metadata": {},
   "outputs": [
    {
     "name": "stdout",
     "output_type": "stream",
     "text": [
      "abcdefghijklmnopqrstuvwxyz\n"
     ]
    }
   ],
   "source": [
    "from string import ascii_lowercase\n",
    "print(ascii_lowercase)\n"
   ]
  },
  {
   "cell_type": "markdown",
   "metadata": {},
   "source": [
    "5. {var=}"
   ]
  },
  {
   "cell_type": "code",
   "execution_count": 1,
   "metadata": {},
   "outputs": [
    {
     "name": "stdout",
     "output_type": "stream",
     "text": [
      "shin is 31 years old\n",
      "name='shin' age=31\n"
     ]
    }
   ],
   "source": [
    "name = 'shin'\n",
    "age = 31\n",
    "\n",
    "print(f'{name} is {age} years old')\n",
    "print(f'{name=} {age=}')\n",
    "\n",
    "\n",
    "\n",
    "\n",
    "\n"
   ]
  },
  {
   "cell_type": "markdown",
   "metadata": {},
   "source": [
    "6. dict()"
   ]
  },
  {
   "cell_type": "code",
   "execution_count": 3,
   "metadata": {},
   "outputs": [],
   "source": [
    "dic1 = {'a':1, 'b':2, 'c':3, 'd':4}\n",
    "dic2 = dict(a=1, b=2, c=3, d=4)\n"
   ]
  },
  {
   "cell_type": "markdown",
   "metadata": {},
   "source": [
    "7. sort() vs. sorted()"
   ]
  },
  {
   "cell_type": "code",
   "execution_count": 4,
   "metadata": {},
   "outputs": [
    {
     "name": "stdout",
     "output_type": "stream",
     "text": [
      "[1, 2, 3, 4, 5]\n",
      "[1, 2, 3, 4, 5]\n"
     ]
    }
   ],
   "source": [
    "li = [1,5,3,2,4]\n",
    "\n",
    "li.sort()\n",
    "print(li)\n",
    "\n",
    "li_sorted = sorted(li)\n",
    "print(li_sorted)\n",
    "\n",
    "\n",
    "\n",
    "\n",
    "\n",
    "\n",
    "\n"
   ]
  }
 ],
 "metadata": {
  "kernelspec": {
   "display_name": "Python 3",
   "language": "python",
   "name": "python3"
  },
  "language_info": {
   "codemirror_mode": {
    "name": "ipython",
    "version": 3
   },
   "file_extension": ".py",
   "mimetype": "text/x-python",
   "name": "python",
   "nbconvert_exporter": "python",
   "pygments_lexer": "ipython3",
   "version": "3.12.2"
  }
 },
 "nbformat": 4,
 "nbformat_minor": 2
}
