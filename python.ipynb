{
 "cells": [
  {
   "cell_type": "markdown",
   "metadata": {},
   "source": [
    "<h1>From '101 Things I never Knew about Python' - <a>https://payhip.com/b/vywcf</a>\n",
    "</h1>"
   ]
  },
  {
   "cell_type": "markdown",
   "metadata": {},
   "source": [
    "1) combining dictionaries with unpacking"
   ]
  },
  {
   "cell_type": "code",
   "execution_count": 5,
   "metadata": {},
   "outputs": [
    {
     "name": "stdout",
     "output_type": "stream",
     "text": [
      "{'a': 1, 'b': 2, 'c': 3, 'd': 4}\n"
     ]
    }
   ],
   "source": [
    "a = {'a': 1, 'b': 2}\n",
    "b = {'c': 3, 'd': 4}\n",
    "\n",
    "c = {**a, **b}\n",
    "print(c)"
   ]
  },
  {
   "cell_type": "code",
   "execution_count": 1,
   "metadata": {},
   "outputs": [
    {
     "name": "stdout",
     "output_type": "stream",
     "text": [
      "{'a': 5, 'b': 2, 'c': 3, 'd': 6}\n"
     ]
    }
   ],
   "source": [
    "#When there are conlflicting keys, the last one wins\n",
    "\n",
    "# 2) combining dictionaries with unpacking\n",
    "a = {'a': 1, 'b': 2}\n",
    "b = {'c': 3, 'd': 4}\n",
    "c = {'a': 5, 'd': 6}\n",
    "\n",
    "d = {**a, **b, **c}\n",
    "print(d)\n",
    "\n",
    "\n"
   ]
  },
  {
   "cell_type": "markdown",
   "metadata": {},
   "source": [
    "2. __getattr__"
   ]
  },
  {
   "cell_type": "code",
   "execution_count": 3,
   "metadata": {},
   "outputs": [
    {
     "name": "stdout",
     "output_type": "stream",
     "text": [
      "1\n",
      "2\n",
      "3\n",
      "d\n"
     ]
    }
   ],
   "source": [
    "#when __getattr__ is called on attribute that doesn't exist, it will return the key\n",
    "\n",
    "class A:\n",
    "  def __init__(self, a, b, c):\n",
    "    self.a = a\n",
    "    self.b = b\n",
    "    self.c = c\n",
    "\n",
    "  def __getattr__(self, attr):\n",
    "    return attr\n",
    "\n",
    "a = A(1, 2, 3)\n",
    "print(a.a)\n",
    "print(a.b)\n",
    "print(a.c)\n",
    "\n",
    "print(a.d )"
   ]
  },
  {
   "cell_type": "code",
   "execution_count": 4,
   "metadata": {},
   "outputs": [
    {
     "name": "stdout",
     "output_type": "stream",
     "text": [
      "<__main__.B object at 0x000001AA2D7AEE40>\n",
      "<__main__.B object at 0x000001AA2D7AE330>\n"
     ]
    }
   ],
   "source": [
    "#__getattr__ can be customized to return a new instance of the class\n",
    "\n",
    "class B:\n",
    "  def __getattr__(self, attr):\n",
    "    return B()\n",
    "  \n",
    "b = B()\n",
    "print(b.a)\n",
    "print(b.a.a)\n"
   ]
  },
  {
   "cell_type": "markdown",
   "metadata": {},
   "source": [
    "3.pretty print"
   ]
  },
  {
   "cell_type": "code",
   "execution_count": 2,
   "metadata": {},
   "outputs": [
    {
     "name": "stdout",
     "output_type": "stream",
     "text": [
      "{'x': {'a': 1, 'b': 2, 'c': 3}, 'y': {'a': 3, 'b': 4, 'c': 5}, 'z': {'a': 5, 'b': 6, 'c': 7}}\n",
      "{'x': {'a': 1, 'b': 2, 'c': 3},\n",
      " 'y': {'a': 3, 'b': 4, 'c': 5},\n",
      " 'z': {'a': 5, 'b': 6, 'c': 7}}\n"
     ]
    }
   ],
   "source": [
    "double_dict = {\n",
    "  'x' : {\"a\" : 1, \"b\" : 2, \"c\" : 3},\n",
    "  'y' : {\"a\" : 3, \"b\" : 4, \"c\" : 5},\n",
    "  'z' : {\"a\" : 5, \"b\" : 6, \"c\" : 7},\n",
    "}\n",
    "\n",
    "print(double_dict)\n",
    "\n",
    "from pprint import pprint\n",
    "pprint(double_dict)\n",
    "\n",
    "\n",
    "\n",
    "\n",
    "\n",
    "\n"
   ]
  },
  {
   "cell_type": "markdown",
   "metadata": {},
   "source": [
    "4. Get all alphabet"
   ]
  },
  {
   "cell_type": "code",
   "execution_count": 3,
   "metadata": {},
   "outputs": [
    {
     "name": "stdout",
     "output_type": "stream",
     "text": [
      "abcdefghijklmnopqrstuvwxyz\n"
     ]
    }
   ],
   "source": [
    "from string import ascii_lowercase\n",
    "print(ascii_lowercase)\n"
   ]
  },
  {
   "cell_type": "markdown",
   "metadata": {},
   "source": [
    "5. {var=}"
   ]
  },
  {
   "cell_type": "code",
   "execution_count": 1,
   "metadata": {},
   "outputs": [
    {
     "name": "stdout",
     "output_type": "stream",
     "text": [
      "shin is 31 years old\n",
      "name='shin' age=31\n"
     ]
    }
   ],
   "source": [
    "name = 'shin'\n",
    "age = 31\n",
    "\n",
    "print(f'{name} is {age} years old')\n",
    "print(f'{name=} {age=}')\n",
    "\n",
    "\n",
    "\n",
    "\n",
    "\n"
   ]
  },
  {
   "cell_type": "markdown",
   "metadata": {},
   "source": [
    "6. dict()"
   ]
  },
  {
   "cell_type": "code",
   "execution_count": 3,
   "metadata": {},
   "outputs": [],
   "source": [
    "dic1 = {'a':1, 'b':2, 'c':3, 'd':4}\n",
    "dic2 = dict(a=1, b=2, c=3, d=4)\n"
   ]
  },
  {
   "cell_type": "markdown",
   "metadata": {},
   "source": [
    "7. sort() vs. sorted()"
   ]
  },
  {
   "cell_type": "code",
   "execution_count": 4,
   "metadata": {},
   "outputs": [
    {
     "name": "stdout",
     "output_type": "stream",
     "text": [
      "[1, 2, 3, 4, 5]\n",
      "[1, 2, 3, 4, 5]\n"
     ]
    }
   ],
   "source": [
    "li = [1,5,3,2,4]\n",
    "\n",
    "li.sort()\n",
    "print(li)\n",
    "\n",
    "li_sorted = sorted(li)\n",
    "print(li_sorted)\n",
    "\n",
    "\n",
    "\n",
    "\n",
    "\n",
    "\n",
    "\n"
   ]
  },
  {
   "cell_type": "markdown",
   "metadata": {},
   "source": [
    "8. Decorator Syntaxes"
   ]
  },
  {
   "cell_type": "code",
   "execution_count": 5,
   "metadata": {},
   "outputs": [
    {
     "name": "stdout",
     "output_type": "stream",
     "text": [
      "Something before the function runs\n",
      "Hello!\n",
      "Something after the function runs\n"
     ]
    }
   ],
   "source": [
    "# Decorator : a function designed to modify another function without modifying its source code.\n",
    "\n",
    "def my_decorator(func):\n",
    "    def wrapper():\n",
    "        print(\"Something before the function runs\")\n",
    "        func()\n",
    "        print(\"Something after the function runs\")\n",
    "    return wrapper\n",
    "\n",
    "@my_decorator  # Equivalent to `say_hello = my_decorator(say_hello)`\n",
    "def say_hello():\n",
    "    print(\"Hello!\")\n",
    "    return (\"Hello World\")\n",
    "\n",
    "say_hello()\n"
   ]
  },
  {
   "cell_type": "code",
   "execution_count": 7,
   "metadata": {},
   "outputs": [
    {
     "name": "stdout",
     "output_type": "stream",
     "text": [
      "Hello!\n"
     ]
    }
   ],
   "source": [
    "def add_exclamanation(func):\n",
    "  def wrapper():\n",
    "    return func() + \"!\"\n",
    "  return wrapper\n",
    "\n",
    "@add_exclamanation\n",
    "def say_hello():\n",
    "  return \"Hello\"\n",
    "\n",
    "print(say_hello())\n",
    "\n",
    "\n",
    "\n",
    "\n"
   ]
  },
  {
   "cell_type": "markdown",
   "metadata": {},
   "source": [
    "9. Positive vs. Negative Infinity"
   ]
  },
  {
   "cell_type": "code",
   "execution_count": 9,
   "metadata": {},
   "outputs": [
    {
     "name": "stdout",
     "output_type": "stream",
     "text": [
      "inf\n",
      "-inf\n"
     ]
    }
   ],
   "source": [
    "# positive infinity float('inf') is larger than all other numbers\n",
    "# negative infinity float('-inf') is smaller than all other numbers\n",
    "\n",
    "a = float('inf')\n",
    "b = float('-inf')\n",
    "\n",
    "print(a)\n",
    "print(b)\n",
    "\n",
    "\n",
    "\n"
   ]
  },
  {
   "cell_type": "markdown",
   "metadata": {},
   "source": [
    "10. int() vs. float()"
   ]
  },
  {
   "cell_type": "code",
   "execution_count": 11,
   "metadata": {},
   "outputs": [
    {
     "name": "stdout",
     "output_type": "stream",
     "text": [
      "0\n",
      "0.0\n"
     ]
    }
   ],
   "source": [
    "# int() evaluates to 0, while float() evaluates to 0.0\n",
    "a = int()\n",
    "print(a)\n",
    "\n",
    "b = float()\n",
    "print(b)\n",
    "\n",
    "\n"
   ]
  },
  {
   "cell_type": "markdown",
   "metadata": {},
   "source": [
    "11. Dog()()()()()()"
   ]
  },
  {
   "cell_type": "code",
   "execution_count": 16,
   "metadata": {},
   "outputs": [
    {
     "name": "stdout",
     "output_type": "stream",
     "text": [
      "Woof!\n"
     ]
    }
   ],
   "source": [
    "from typing import Any\n",
    "\n",
    "\n",
    "class Dog:\n",
    "  def __call__(self, *args: Any, **kwds: Any) -> Any:\n",
    "    return \"Woof!\"\n",
    "  \n",
    "dog = Dog()\n",
    "print(dog())"
   ]
  },
  {
   "cell_type": "code",
   "execution_count": 17,
   "metadata": {},
   "outputs": [
    {
     "name": "stdout",
     "output_type": "stream",
     "text": [
      "<__main__.Dog object at 0x00000226A3DCA1E0>\n",
      "<class '__main__.Dog'>\n",
      "<__main__.Dog object at 0x00000226A3DCB7D0>\n",
      "<class '__main__.Dog'>\n",
      "<__main__.Dog object at 0x00000226A3DCB7D0>\n",
      "<class '__main__.Dog'>\n"
     ]
    }
   ],
   "source": [
    "#__call__ can be configured to return the class\n",
    "from typing import Any\n",
    "\n",
    "class Dog:\n",
    "  def __call__(self, *args: Any, **kwds: Any) -> Any:\n",
    "    return Dog\n",
    "dog = Dog()\n",
    "print(dog) # the Dog object\n",
    "print(dog()) # the Dog class\n",
    "print(dog()()) # a new Dog object\n",
    "print(dog()()()) # the Dog class again\n",
    "print(dog()()()()) # another new Dog object\n",
    "print(dog()()()()()) # the Dog class again"
   ]
  },
  {
   "cell_type": "markdown",
   "metadata": {},
   "source": [
    "12. assert statements"
   ]
  },
  {
   "cell_type": "code",
   "execution_count": 20,
   "metadata": {},
   "outputs": [
    {
     "ename": "AssertionError",
     "evalue": "Score must be positive",
     "output_type": "error",
     "traceback": [
      "\u001b[1;31m---------------------------------------------------------------------------\u001b[0m",
      "\u001b[1;31mAssertionError\u001b[0m                            Traceback (most recent call last)",
      "Cell \u001b[1;32mIn[20], line 5\u001b[0m\n\u001b[0;32m      1\u001b[0m \u001b[38;5;66;03m#precheck using assert statements. If it fails, AssertionError happens\u001b[39;00m\n\u001b[0;32m      3\u001b[0m score \u001b[38;5;241m=\u001b[39m \u001b[38;5;241m-\u001b[39m\u001b[38;5;241m1\u001b[39m\n\u001b[1;32m----> 5\u001b[0m \u001b[38;5;28;01massert\u001b[39;00m score \u001b[38;5;241m>\u001b[39m\u001b[38;5;241m=\u001b[39m\u001b[38;5;241m0\u001b[39m, \u001b[38;5;124m\"\u001b[39m\u001b[38;5;124mScore must be positive\u001b[39m\u001b[38;5;124m\"\u001b[39m\n\u001b[0;32m      6\u001b[0m \u001b[38;5;28;01massert\u001b[39;00m score \u001b[38;5;241m<\u001b[39m\u001b[38;5;241m=\u001b[39m\u001b[38;5;241m100\u001b[39m, \u001b[38;5;124m\"\u001b[39m\u001b[38;5;124mScore must be less than 100\u001b[39m\u001b[38;5;124m\"\u001b[39m\n",
      "\u001b[1;31mAssertionError\u001b[0m: Score must be positive"
     ]
    }
   ],
   "source": [
    "#precheck using assert statements. If it fails, AssertionError happens\n",
    "\n",
    "score = -1\n",
    "\n",
    "assert score >=0, \"Score must be positive\"\n",
    "assert score <=100, \"Score must be less than 100\"\n"
   ]
  },
  {
   "cell_type": "markdown",
   "metadata": {},
   "source": [
    "13. __init__.py\n",
    "\n",
    "https://python.plainenglish.io/how-i-learned-to-love-f-a-simple-guide-120857df7af0\n",
    "\n",
    "#__init__.py : when a package is imported, the __init__.py inside it is always ran first.\n",
    "\n",
    "This can be used for configuration settings or setting important variables"
   ]
  },
  {
   "cell_type": "code",
   "execution_count": null,
   "metadata": {},
   "outputs": [],
   "source": [
    "#assuming this is __init__.py :\n",
    "from .module1 import MyClass  #this will not work on jupyter notebook, since it cannot run relative imports.\n",
    "from .module2 import useful_functions\n",
    "\n",
    "__all__ = ['MyClass', 'useful_functions']"
   ]
  },
  {
   "cell_type": "code",
   "execution_count": 9,
   "metadata": {},
   "outputs": [],
   "source": [
    "#The above will allow the use of:\n",
    "from mypackage import MyClass, useful_functions"
   ]
  },
  {
   "cell_type": "code",
   "execution_count": null,
   "metadata": {},
   "outputs": [],
   "source": [
    "#__init__.py can also be used to set up logging or database connections\n",
    "\n",
    "import logging\n",
    "logging.basicConfig(level=logging.WARNING)\n",
    "logging.info(\"mypackage is ready\")\n",
    "\n",
    "#mock code for database connection\n"
   ]
  },
  {
   "cell_type": "code",
   "execution_count": 1,
   "metadata": {},
   "outputs": [],
   "source": [
    "# A Few Simple Tips for Using __init__.py    \n",
    "    # Keep It Simple:\n",
    "      # Use __init__.py for basic setup and to define what parts of your package should be available to users. Avoid putting too much code in there.\n",
    "    # Comment Your Code:\n",
    "      # Leave comments explaining what your __init__.py does. This helps you and others understand the purpose of the code later on.\n",
    "    # Use __all__ to Control the Public API:\n",
    "      # By listing the names in __all__, you make it clear which parts of your package are meant to be used by others.\n",
    "    # Test Your Setup:\n",
    "      # Since __init__.py runs every time the package is imported, make sure it’s working correctly by testing it thoroughly."
   ]
  },
  {
   "cell_type": "markdown",
   "metadata": {},
   "source": [
    "14. tuple unpacking"
   ]
  },
  {
   "cell_type": "code",
   "execution_count": 3,
   "metadata": {},
   "outputs": [
    {
     "name": "stdout",
     "output_type": "stream",
     "text": [
      "5 4\n"
     ]
    }
   ],
   "source": [
    "a = 4\n",
    "b = 5\n",
    "a, b = b, a\n",
    "print(a, b)"
   ]
  },
  {
   "cell_type": "code",
   "execution_count": 6,
   "metadata": {},
   "outputs": [
    {
     "name": "stdout",
     "output_type": "stream",
     "text": [
      "6 5 4\n"
     ]
    }
   ],
   "source": [
    "a, b, c = 4, 5, 6\n",
    "a, b, c, a, b = b, c, a, c, b\n",
    "print(a, b, c)\n",
    "\n",
    "#this equals to a,b,c,a,b = (5,6,4,6,5) : The value on the right side is fixed\n",
    "#1. a = 5\n",
    "#2. b = 6\n",
    "#3. c = 4\n",
    "#4. a = 6\n",
    "#5. b = 5\n",
    "\n"
   ]
  },
  {
   "cell_type": "markdown",
   "metadata": {},
   "source": [
    "15. adding a list to itself"
   ]
  },
  {
   "cell_type": "code",
   "execution_count": 3,
   "metadata": {},
   "outputs": [
    {
     "data": {
      "text/plain": [
       "['apple', 'orange']"
      ]
     },
     "execution_count": 3,
     "metadata": {},
     "output_type": "execute_result"
    }
   ],
   "source": [
    "mylist =  ['apple']\n",
    "mylist.append('orange')\n",
    "mylist"
   ]
  },
  {
   "cell_type": "code",
   "execution_count": 6,
   "metadata": {},
   "outputs": [
    {
     "name": "stdout",
     "output_type": "stream",
     "text": [
      "['apple', [...]]\n"
     ]
    }
   ],
   "source": [
    "mylist = ['apple']\n",
    "mylist.append(mylist)\n",
    "\n",
    "print(mylist) # [...] in Python is called a built-in ellipsis object. It is printed when an object has a cyclic reference"
   ]
  },
  {
   "cell_type": "markdown",
   "metadata": {},
   "source": [
    "16. __getattr__ vs. __getattribute__"
   ]
  },
  {
   "cell_type": "code",
   "execution_count": 11,
   "metadata": {},
   "outputs": [
    {
     "name": "stdout",
     "output_type": "stream",
     "text": [
      "rocky\n",
      "5\n",
      "__getattr__ is called: key='nickname'\n",
      "__getattr__ is called: key='gender'\n"
     ]
    }
   ],
   "source": [
    "#__getattr__ is called when an attribute that does not exist in an object is accessed.\n",
    "\n",
    "class Dog:\n",
    "  def __init__(self, name, age):\n",
    "    self.name, self.age = name, age\n",
    "\n",
    "  def __getattr__(self, key):\n",
    "    return f'__getattr__ is called: {key=}'\n",
    "\n",
    "dog = Dog('rocky', 5)\n",
    "# for existing attributes\n",
    "print(dog.name) # rocky\n",
    "print(dog.age) # 5\n",
    "# for non-existent attributes\n",
    "print(dog.nickname) # __getattr__ is called: key='nickname'\n",
    "print(dog.gender) # __getattr__ is called: key='gender'"
   ]
  },
  {
   "cell_type": "code",
   "execution_count": 14,
   "metadata": {},
   "outputs": [
    {
     "name": "stdout",
     "output_type": "stream",
     "text": [
      "__getattribute__ called: key='name'\n",
      "__getattribute__ called: key='age'\n",
      "__getattribute__ called: key='nickname'\n",
      "__getattribute__ called: key='gender'\n"
     ]
    }
   ],
   "source": [
    "#__getattribute__ is called when we access an attribute on object, regardless of its existience.\n",
    "\n",
    "class Dog:\n",
    "  def __init__(self, name, age):\n",
    "    self.name, self.age = name, age\n",
    "    \n",
    "  def __getattribute__(self, key):\n",
    "    return f'__getattribute__ called: {key=}'\n",
    "  \n",
    "dog = Dog('rocky', 5)\n",
    "\n",
    "print(dog.name) # __getattribute__ called: key='name'\n",
    "print(dog.age) # __getattribute__ called: key='age'\n",
    "# for non-existent attributes\n",
    "print(dog.nickname) # __getattribute__ called: key='nickname'\n",
    "print(dog.gender) # __getattribute__ called: key='gender"
   ]
  },
  {
   "cell_type": "markdown",
   "metadata": {},
   "source": [
    "17. why use __all__  : to control variables to be imported/exported"
   ]
  },
  {
   "cell_type": "code",
   "execution_count": 1,
   "metadata": {},
   "outputs": [],
   "source": [
    "# helper.py\n",
    "a = 'apple'\n",
    "b = 'orange'\n",
    "def test1():\n",
    "  print('test1 called')\n",
    "def test2():\n",
    "  print('test2 called')"
   ]
  },
  {
   "cell_type": "code",
   "execution_count": 1,
   "metadata": {},
   "outputs": [
    {
     "name": "stdout",
     "output_type": "stream",
     "text": [
      "apple\n"
     ]
    },
    {
     "ename": "NameError",
     "evalue": "name 'b' is not defined",
     "output_type": "error",
     "traceback": [
      "\u001b[1;31m---------------------------------------------------------------------------\u001b[0m",
      "\u001b[1;31mNameError\u001b[0m                                 Traceback (most recent call last)",
      "Cell \u001b[1;32mIn[1], line 6\u001b[0m\n\u001b[0;32m      3\u001b[0m \u001b[38;5;28;01mfrom\u001b[39;00m \u001b[38;5;21;01mhelper\u001b[39;00m \u001b[38;5;28;01mimport\u001b[39;00m \u001b[38;5;241m*\u001b[39m\n\u001b[0;32m      5\u001b[0m \u001b[38;5;28mprint\u001b[39m(a)\n\u001b[1;32m----> 6\u001b[0m \u001b[38;5;28mprint\u001b[39m(\u001b[43mb\u001b[49m)\n\u001b[0;32m      7\u001b[0m test1()\n\u001b[0;32m      8\u001b[0m test2()\n",
      "\u001b[1;31mNameError\u001b[0m: name 'b' is not defined"
     ]
    }
   ],
   "source": [
    "#main.py\n",
    "\n",
    "from helper import *\n",
    "\n",
    "print(a)\n",
    "print(b)\n",
    "test1()\n",
    "test2()\n"
   ]
  },
  {
   "cell_type": "markdown",
   "metadata": {},
   "source": [
    "18. @cache : Fibonacci example"
   ]
  },
  {
   "cell_type": "code",
   "execution_count": 2,
   "metadata": {},
   "outputs": [
    {
     "name": "stdout",
     "output_type": "stream",
     "text": [
      "1\n",
      "1\n",
      "2\n",
      "3\n",
      "5\n",
      "8\n",
      "13\n",
      "21\n"
     ]
    }
   ],
   "source": [
    "#without @cache:\n",
    "\n",
    "#method to get nth fibonacci number\n",
    "def fib(n):\n",
    "    if n <= 1:\n",
    "        return n\n",
    "    return fib(n-1) + fib(n-2)\n",
    "  \n",
    "print(fib(1)) # 0\n",
    "print(fib(2)) # 1\n",
    "print(fib(3)) # 1\n",
    "print(fib(4)) # 2\n",
    "print(fib(5)) # 3\n",
    "print(fib(6)) # 5\n",
    "print(fib(7)) # 8\n",
    "print(fib(8)) # 13\n",
    "\n",
    "\"\"\"\n",
    "# explanation : to keep things concise, fib(6) == f6\n",
    "f6 = f5 + f4\n",
    "= (f4 + f3) + (f3 + f2)\n",
    "# notice fib(3) is computed twice -> not ideal\n",
    "= ((f3+f2)+(f2+f1)) + ((f2+f1)+f2)\n",
    "# fib(3) is computed again\n",
    "= (((f2+f1)+f2)+(f2+f1)) + ((f2+f1)+f2)\n",
    "= (((1+0)+1)+(1+0)) + ((1+0)+1)\n",
    "= 5\n",
    "\"\"\""
   ]
  },
  {
   "cell_type": "code",
   "execution_count": 3,
   "metadata": {},
   "outputs": [
    {
     "name": "stdout",
     "output_type": "stream",
     "text": [
      "1\n",
      "1\n",
      "2\n",
      "3\n",
      "5\n",
      "8\n",
      "13\n",
      "21\n"
     ]
    },
    {
     "data": {
      "text/plain": [
       "'\\n# explanation: with @cache, each fib(n) is computed only once, then stored in cache for reuse\\n# much more efficient than computing same values repeatedly\\n'"
      ]
     },
     "execution_count": 3,
     "metadata": {},
     "output_type": "execute_result"
    }
   ],
   "source": [
    "#using @cache:\n",
    "\n",
    "from functools import cache\n",
    "\n",
    "@cache\n",
    "def fib(n):\n",
    "    if n <= 1:\n",
    "        return n\n",
    "    return fib(n-1) + fib(n-2)\n",
    "  \n",
    "print(fib(1)) # 0\n",
    "print(fib(2)) # 1\n",
    "print(fib(3)) # 1\n",
    "print(fib(4)) # 2\n",
    "print(fib(5)) # 3\n",
    "print(fib(6)) # 5\n",
    "print(fib(7)) # 8\n",
    "print(fib(8)) # 13\n",
    "\n",
    "\"\"\"\n",
    "# explanation: with @cache, each fib(n) is computed only once, then stored in cache for reuse\n",
    "# much more efficient than computing same values repeatedly\n",
    "\"\"\"\n"
   ]
  },
  {
   "cell_type": "markdown",
   "metadata": {},
   "source": [
    "19. if __name__ == '__main__' : why is it important?"
   ]
  },
  {
   "cell_type": "code",
   "execution_count": 5,
   "metadata": {},
   "outputs": [
    {
     "name": "stdout",
     "output_type": "stream",
     "text": [
      "test test test\n"
     ]
    }
   ],
   "source": [
    "# helper.py\n",
    "def helper_function():\n",
    "  print('helper function has been called')\n",
    "\n"
   ]
  },
  {
   "cell_type": "code",
   "execution_count": 1,
   "metadata": {},
   "outputs": [
    {
     "name": "stdout",
     "output_type": "stream",
     "text": [
      "test test test\n",
      "helper function has been called\n"
     ]
    }
   ],
   "source": [
    "# main.py\n",
    "from helper import *\n",
    "helper_function()\n",
    "\n",
    "# when main.py is ran, the 'test test test' in helper function is printed, even when helper_function is called."
   ]
  },
  {
   "cell_type": "code",
   "execution_count": 2,
   "metadata": {},
   "outputs": [
    {
     "name": "stdout",
     "output_type": "stream",
     "text": [
      "test test test\n"
     ]
    }
   ],
   "source": [
    "# helper.py\n",
    "def helper_function():\n",
    "  print('helper function has been called')\n",
    "\n",
    "if __name__ == '__main__':\n",
    "  print('test test test')\n",
    "# this runs ONLY if we run helper.py directly"
   ]
  },
  {
   "cell_type": "code",
   "execution_count": 4,
   "metadata": {},
   "outputs": [
    {
     "name": "stdout",
     "output_type": "stream",
     "text": [
      "helper function has been called\n"
     ]
    }
   ],
   "source": [
    "# main.py\n",
    "from helper import *\n",
    "helper_function()\n",
    "\n",
    "#This pattern is commonly used to write code that can function both as a reusable module and as a standalone script."
   ]
  },
  {
   "cell_type": "markdown",
   "metadata": {},
   "source": [
    "20. ^ : bitwise XOR operator"
   ]
  },
  {
   "cell_type": "code",
   "execution_count": 2,
   "metadata": {},
   "outputs": [
    {
     "name": "stdout",
     "output_type": "stream",
     "text": [
      "^5\n",
      "hello\n"
     ]
    }
   ],
   "source": [
    "class Dog:\n",
    "  def __xor__(self, n): #by defining __xor__, Dog objects can use the bitwise ^ operator.\n",
    "    return '^' + str(n)\n",
    "  \n",
    "  def __and__(self,n): #same with __and__ &\n",
    "    return 'hello'\n",
    "  \n",
    "dog = Dog()\n",
    "print(dog^5)\n",
    "\n",
    "print(dog & 00)"
   ]
  },
  {
   "cell_type": "markdown",
   "metadata": {},
   "source": [
    "21. \\a : it makes a bell sound!"
   ]
  },
  {
   "cell_type": "code",
   "execution_count": 4,
   "metadata": {},
   "outputs": [
    {
     "name": "stdout",
     "output_type": "stream",
     "text": [
      "\u0007\n"
     ]
    }
   ],
   "source": [
    "print('\\a')"
   ]
  },
  {
   "cell_type": "markdown",
   "metadata": {},
   "source": [
    "22. backspace \\b"
   ]
  },
  {
   "cell_type": "code",
   "execution_count": 4,
   "metadata": {},
   "outputs": [
    {
     "name": "stdout",
     "output_type": "stream",
     "text": [
      "abd\n"
     ]
    }
   ],
   "source": [
    "#printing '\\b' deletes one already-printed character\n",
    "print('abc', end='')\n",
    "print('\\b', end='')\n",
    "print('d')"
   ]
  },
  {
   "cell_type": "code",
   "execution_count": 5,
   "metadata": {},
   "outputs": [
    {
     "name": "stdout",
     "output_type": "stream",
     "text": [
      "abc123\n"
     ]
    }
   ],
   "source": [
    "print('abcd', end='')\n",
    "print('\\b\\b\\b', end='')\n",
    "print('123')"
   ]
  },
  {
   "cell_type": "markdown",
   "metadata": {},
   "source": [
    "23. divmod(a,b)"
   ]
  },
  {
   "cell_type": "code",
   "execution_count": 6,
   "metadata": {},
   "outputs": [],
   "source": [
    "n = 37\n",
    "quotient = n//10\n",
    "remainder = n%10"
   ]
  },
  {
   "cell_type": "code",
   "execution_count": 7,
   "metadata": {},
   "outputs": [
    {
     "name": "stdout",
     "output_type": "stream",
     "text": [
      "3 7\n"
     ]
    }
   ],
   "source": [
    "n= 37\n",
    "\n",
    "quotient, remainder = divmod(37, 10)\n",
    "print(quotient, remainder)"
   ]
  },
  {
   "cell_type": "markdown",
   "metadata": {},
   "source": [
    "24. sets vs. frozensets\n",
    "\n",
    "frozenset: a immutable sete"
   ]
  },
  {
   "cell_type": "code",
   "execution_count": 8,
   "metadata": {},
   "outputs": [
    {
     "name": "stdout",
     "output_type": "stream",
     "text": [
      "True\n"
     ]
    }
   ],
   "source": [
    "fs = frozenset([1,2,3])\n",
    "print(1 in fs)"
   ]
  },
  {
   "cell_type": "code",
   "execution_count": 9,
   "metadata": {},
   "outputs": [
    {
     "ename": "TypeError",
     "evalue": "unhashable type: 'set'",
     "output_type": "error",
     "traceback": [
      "\u001b[1;31m---------------------------------------------------------------------------\u001b[0m",
      "\u001b[1;31mTypeError\u001b[0m                                 Traceback (most recent call last)",
      "Cell \u001b[1;32mIn[9], line 4\u001b[0m\n\u001b[0;32m      1\u001b[0m \u001b[38;5;66;03m#use frozen sets when immutability is needed\u001b[39;00m\n\u001b[0;32m      3\u001b[0m s \u001b[38;5;241m=\u001b[39m \u001b[38;5;28mset\u001b[39m([\u001b[38;5;241m1\u001b[39m,\u001b[38;5;241m2\u001b[39m,\u001b[38;5;241m3\u001b[39m])\n\u001b[1;32m----> 4\u001b[0m mydict \u001b[38;5;241m=\u001b[39m {s:\u001b[38;5;124m'\u001b[39m\u001b[38;5;124mvalue\u001b[39m\u001b[38;5;124m'\u001b[39m} \u001b[38;5;66;03m#Error\u001b[39;00m\n\u001b[0;32m      6\u001b[0m newset \u001b[38;5;241m=\u001b[39m \u001b[38;5;28mset\u001b[39m()\n\u001b[0;32m      7\u001b[0m newset\u001b[38;5;241m.\u001b[39madd(s) \u001b[38;5;66;03m#Error\u001b[39;00m\n",
      "\u001b[1;31mTypeError\u001b[0m: unhashable type: 'set'"
     ]
    }
   ],
   "source": [
    "#use frozen sets when immutability is needed\n",
    "\n",
    "s = set([1,2,3])\n",
    "mydict = {s:'value'} #Error : since sets are mutable, using them as dict keys are not allowed."
   ]
  },
  {
   "cell_type": "code",
   "execution_count": 11,
   "metadata": {},
   "outputs": [],
   "source": [
    "s = frozenset([1,2,3])\n",
    "mydict = {s:'value'} # this works because frozensets are immutable"
   ]
  },
  {
   "cell_type": "markdown",
   "metadata": {},
   "source": [
    "25\\. \\_\\_slots\\_\\_ : defines what attributes the object is allowed to have"
   ]
  },
  {
   "cell_type": "code",
   "execution_count": 3,
   "metadata": {},
   "outputs": [
    {
     "ename": "AttributeError",
     "evalue": "'Dog' object has no attribute 'breed'",
     "output_type": "error",
     "traceback": [
      "\u001b[1;31m---------------------------------------------------------------------------\u001b[0m",
      "\u001b[1;31mAttributeError\u001b[0m                            Traceback (most recent call last)",
      "Cell \u001b[1;32mIn[3], line 8\u001b[0m\n\u001b[0;32m      5\u001b[0m dog\u001b[38;5;241m.\u001b[39mname \u001b[38;5;241m=\u001b[39m \u001b[38;5;124m'\u001b[39m\u001b[38;5;124mShiro\u001b[39m\u001b[38;5;124m'\u001b[39m\n\u001b[0;32m      6\u001b[0m dog\u001b[38;5;241m.\u001b[39mage \u001b[38;5;241m=\u001b[39m \u001b[38;5;241m5\u001b[39m\n\u001b[1;32m----> 8\u001b[0m \u001b[43mdog\u001b[49m\u001b[38;5;241;43m.\u001b[39;49m\u001b[43mbreed\u001b[49m \u001b[38;5;241m=\u001b[39m \u001b[38;5;124m'\u001b[39m\u001b[38;5;124mPom\u001b[39m\u001b[38;5;124m'\u001b[39m \u001b[38;5;66;03m#This would cause an error\u001b[39;00m\n",
      "\u001b[1;31mAttributeError\u001b[0m: 'Dog' object has no attribute 'breed'"
     ]
    }
   ],
   "source": [
    "class Dog:\n",
    "  __slots__ = ['name', 'age'] #only name and age attributes are now permitted.\n",
    "\n",
    "dog = Dog()\n",
    "dog.name = 'Shiro'\n",
    "dog.age = 5\n",
    "\n",
    "dog.breed = 'Pom' #This would cause an attribute error\n"
   ]
  },
  {
   "cell_type": "markdown",
   "metadata": {},
   "source": [
    "26. Combine lists using [*a, *b]"
   ]
  },
  {
   "cell_type": "code",
   "execution_count": 4,
   "metadata": {},
   "outputs": [
    {
     "name": "stdout",
     "output_type": "stream",
     "text": [
      "[1, 2, 3, 4]\n"
     ]
    }
   ],
   "source": [
    "a = [1, 2]\n",
    "b = [3, 4]\n",
    "\n",
    "x = [*a, *b]\n",
    "print(x)"
   ]
  },
  {
   "cell_type": "code",
   "execution_count": 5,
   "metadata": {},
   "outputs": [
    {
     "name": "stdout",
     "output_type": "stream",
     "text": [
      "[1, 2, [3, 4], 5, 6, [7, 8]]\n"
     ]
    }
   ],
   "source": [
    "a = [1, 2]\n",
    "b = [3, 4]\n",
    "c = [5, 6]\n",
    "d = [7, 8]\n",
    "\n",
    "x = [*a, b, *c, d]\n",
    "print(x)"
   ]
  },
  {
   "cell_type": "markdown",
   "metadata": {},
   "source": [
    "27. ``type()`` : Creating classes without using ``class``"
   ]
  },
  {
   "cell_type": "code",
   "execution_count": 6,
   "metadata": {},
   "outputs": [],
   "source": [
    "#normal way of creating class, using __init__\n",
    "class Dog:\n",
    "  def __init__(self, name, age):\n",
    "    self.name, self.age = name, age\n",
    "    \n",
    "  def bark(self):\n",
    "    print('woof')"
   ]
  },
  {
   "cell_type": "code",
   "execution_count": 10,
   "metadata": {},
   "outputs": [],
   "source": [
    "#create class using type()\n",
    "def __init__(self, name):\n",
    "    self.name = name\n",
    "\n",
    "def bark(self):\n",
    "    print('woof')\n",
    "\n",
    "Dog = type('Dog', (), {'__init__': __init__, 'bark': bark}) "
   ]
  },
  {
   "cell_type": "code",
   "execution_count": null,
   "metadata": {},
   "outputs": [],
   "source": [
    "#Using type() allows for dynamic class creation based on condition or data\n",
    "def create_animal_class(name, sound):\n",
    "    def make_sound(self):\n",
    "        print(sound)\n",
    "    \n",
    "    return type(name, (), {'make_sound': make_sound})\n",
    "  \n",
    "Dog = create_animal_class('Dog', 'woof')\n",
    "Cat = create_animal_class('Cat', 'meow')\n"
   ]
  },
  {
   "cell_type": "code",
   "execution_count": 15,
   "metadata": {},
   "outputs": [
    {
     "name": "stdout",
     "output_type": "stream",
     "text": [
      "woof\n",
      "woof\n"
     ]
    }
   ],
   "source": [
    "#comparison\n",
    "# Regular class definition\n",
    "class Dog1:\n",
    "    def __init__(self, name):\n",
    "        self.name = name\n",
    "    \n",
    "    def bark(self):\n",
    "        print('woof')\n",
    "\n",
    "# Using type()\n",
    "def __init__(self, name):\n",
    "    self.name = name\n",
    "\n",
    "def bark(self):\n",
    "    print('woof')\n",
    "\n",
    "Dog2 = type('Dog2', (), {'__init__': __init__, 'bark': bark})\n",
    "\n",
    "# Both classes work the same way\n",
    "dog1 = Dog1('Rex')\n",
    "dog2 = Dog2('Rex')\n",
    "\n",
    "dog1.bark()  # prints: woof\n",
    "dog2.bark()  # prints: woof"
   ]
  },
  {
   "cell_type": "markdown",
   "metadata": {},
   "source": [
    "28. ``globals()`` : dynamically create variables"
   ]
  },
  {
   "cell_type": "code",
   "execution_count": 17,
   "metadata": {},
   "outputs": [
    {
     "name": "stdout",
     "output_type": "stream",
     "text": [
      "{'__name__': '__main__', '__doc__': 'Automatically created module for IPython interactive environment', '__package__': None, '__loader__': None, '__spec__': None, '__builtin__': <module 'builtins' (built-in)>, '__builtins__': <module 'builtins' (built-in)>, '_ih': ['', \"class Dog:\\n  __slots__ = ['name', 'age'] #only name and age attributes are now permitted.\\n\\ndog = Dog()\", \"class Dog:\\n  __slots__ = ['name', 'age'] #only name and age attributes are now permitted.\\n\\ndog = Dog()\\ndog.name = 'Shiro'\\ndog.age = 5\\n\\ndog.breed = 'Pom'\", \"class Dog:\\n  __slots__ = ['name', 'age'] #only name and age attributes are now permitted.\\n\\ndog = Dog()\\ndog.name = 'Shiro'\\ndog.age = 5\\n\\ndog.breed = 'Pom' #This would cause an error\", 'a = [1, 2]\\nb = [3, 4]\\n\\nx = [*a, *b]\\nprint(x)', 'a = [1, 2]\\nb = [3, 4]\\nc = [5, 6]\\nd = [7, 8]\\n\\nx = [*a, b, *c, d]\\nprint(x)', \"#normal way of creating class, using __init__\\nclass Dog:\\n  def __init__(self, name, age):\\n    self.name, self.age = name, age\\n    \\n  def bark(self):\\n    print('woof')\", \"def __init__(self, name, age):\\n  self.name, self.age = name, age\\n  \\ndef bark(self):\\n  print('woof')\\n  \\nDog = type('Dog', (, {'__init__' : __init__, 'bark':bark}))\", \"def __init__(self, name, age):\\n  self.name, self.age = name, age\\n  \\ndef bark(self):\\n  print('woof')\\n  \\nDog = type('Dog', ( {'__init__' : __init__, 'bark':bark}))\", \"def __init__(self, name):\\n    self.name = name\\n\\ndef bark(self):\\n    print('woof')\\n\\nDog = type('Dog', (), {'__init__': __init__, 'bark': bark})\", \"#create class using type()\\ndef __init__(self, name):\\n    self.name = name\\n\\ndef bark(self):\\n    print('woof')\\n\\nDog = type('Dog', (), {'__init__': __init__, 'bark': bark})\", \"#Using type() allows for dynamic class creation based on condition or data\\ndef create_animal_class(name, sound):\\n    def make_sound(self):\\n        print(sound)\\n    \\n    return type(name, (), {'make_sound': make_sound})\\n  \\nDog = create_animal_class('Dog', 'woof')\\nCat = create_animal_class('Cat', 'meow')\", \"#Using type() allows for dynamic class creation based on condition or data\\ndef create_animal_class(name, sound):\\n    def make_sound(self):\\n        print(sound)\\n    \\n    return type(name, (), {'make_sound': make_sound})\\n  \\nDog = create_animal_class('Dog', 'woof')\\nCat = create_animal_class('Cat', 'meow')\\n\\nDog.make_sound\\nCat.make_sound\", \"#Using type() allows for dynamic class creation based on condition or data\\ndef create_animal_class(name, sound):\\n    def make_sound(self):\\n        print(sound)\\n    \\n    return type(name, (), {'make_sound': make_sound})\\n  \\nDog = create_animal_class('Dog', 'woof')\\nCat = create_animal_class('Cat', 'meow')\\n\\nDog.make_sound\", \"#Using type() allows for dynamic class creation based on condition or data\\ndef create_animal_class(name, sound):\\n    def make_sound(self):\\n        print(sound)\\n    \\n    return type(name, (), {'make_sound': make_sound})\\n  \\nDog = create_animal_class('Dog', 'woof')\\nCat = create_animal_class('Cat', 'meow')\", \"#comparison\\n# Regular class definition\\nclass Dog1:\\n    def __init__(self, name):\\n        self.name = name\\n    \\n    def bark(self):\\n        print('woof')\\n\\n# Using type()\\ndef __init__(self, name):\\n    self.name = name\\n\\ndef bark(self):\\n    print('woof')\\n\\nDog2 = type('Dog2', (), {'__init__': __init__, 'bark': bark})\\n\\n# Both classes work the same way\\ndog1 = Dog1('Rex')\\ndog2 = Dog2('Rex')\\n\\ndog1.bark()  # prints: woof\\ndog2.bark()  # prints: woof\", 'a = 4\\nb = 5\\nc = 6\\n\\nprint(globals())', 'a = 4\\nb = 5\\nc = 6\\n\\nprint(globals()) #returns a dict containing all existing global variables.\\n#note a, b, c is included'], '_oh': {12: <function create_animal_class.<locals>.make_sound at 0x000002DC9EC3EE80>, 13: <function create_animal_class.<locals>.make_sound at 0x000002DC9EC3E0C0>}, '_dh': [WindowsPath('c:/Users/이신엽/Desktop/Projects/python')], 'In': ['', \"class Dog:\\n  __slots__ = ['name', 'age'] #only name and age attributes are now permitted.\\n\\ndog = Dog()\", \"class Dog:\\n  __slots__ = ['name', 'age'] #only name and age attributes are now permitted.\\n\\ndog = Dog()\\ndog.name = 'Shiro'\\ndog.age = 5\\n\\ndog.breed = 'Pom'\", \"class Dog:\\n  __slots__ = ['name', 'age'] #only name and age attributes are now permitted.\\n\\ndog = Dog()\\ndog.name = 'Shiro'\\ndog.age = 5\\n\\ndog.breed = 'Pom' #This would cause an error\", 'a = [1, 2]\\nb = [3, 4]\\n\\nx = [*a, *b]\\nprint(x)', 'a = [1, 2]\\nb = [3, 4]\\nc = [5, 6]\\nd = [7, 8]\\n\\nx = [*a, b, *c, d]\\nprint(x)', \"#normal way of creating class, using __init__\\nclass Dog:\\n  def __init__(self, name, age):\\n    self.name, self.age = name, age\\n    \\n  def bark(self):\\n    print('woof')\", \"def __init__(self, name, age):\\n  self.name, self.age = name, age\\n  \\ndef bark(self):\\n  print('woof')\\n  \\nDog = type('Dog', (, {'__init__' : __init__, 'bark':bark}))\", \"def __init__(self, name, age):\\n  self.name, self.age = name, age\\n  \\ndef bark(self):\\n  print('woof')\\n  \\nDog = type('Dog', ( {'__init__' : __init__, 'bark':bark}))\", \"def __init__(self, name):\\n    self.name = name\\n\\ndef bark(self):\\n    print('woof')\\n\\nDog = type('Dog', (), {'__init__': __init__, 'bark': bark})\", \"#create class using type()\\ndef __init__(self, name):\\n    self.name = name\\n\\ndef bark(self):\\n    print('woof')\\n\\nDog = type('Dog', (), {'__init__': __init__, 'bark': bark})\", \"#Using type() allows for dynamic class creation based on condition or data\\ndef create_animal_class(name, sound):\\n    def make_sound(self):\\n        print(sound)\\n    \\n    return type(name, (), {'make_sound': make_sound})\\n  \\nDog = create_animal_class('Dog', 'woof')\\nCat = create_animal_class('Cat', 'meow')\", \"#Using type() allows for dynamic class creation based on condition or data\\ndef create_animal_class(name, sound):\\n    def make_sound(self):\\n        print(sound)\\n    \\n    return type(name, (), {'make_sound': make_sound})\\n  \\nDog = create_animal_class('Dog', 'woof')\\nCat = create_animal_class('Cat', 'meow')\\n\\nDog.make_sound\\nCat.make_sound\", \"#Using type() allows for dynamic class creation based on condition or data\\ndef create_animal_class(name, sound):\\n    def make_sound(self):\\n        print(sound)\\n    \\n    return type(name, (), {'make_sound': make_sound})\\n  \\nDog = create_animal_class('Dog', 'woof')\\nCat = create_animal_class('Cat', 'meow')\\n\\nDog.make_sound\", \"#Using type() allows for dynamic class creation based on condition or data\\ndef create_animal_class(name, sound):\\n    def make_sound(self):\\n        print(sound)\\n    \\n    return type(name, (), {'make_sound': make_sound})\\n  \\nDog = create_animal_class('Dog', 'woof')\\nCat = create_animal_class('Cat', 'meow')\", \"#comparison\\n# Regular class definition\\nclass Dog1:\\n    def __init__(self, name):\\n        self.name = name\\n    \\n    def bark(self):\\n        print('woof')\\n\\n# Using type()\\ndef __init__(self, name):\\n    self.name = name\\n\\ndef bark(self):\\n    print('woof')\\n\\nDog2 = type('Dog2', (), {'__init__': __init__, 'bark': bark})\\n\\n# Both classes work the same way\\ndog1 = Dog1('Rex')\\ndog2 = Dog2('Rex')\\n\\ndog1.bark()  # prints: woof\\ndog2.bark()  # prints: woof\", 'a = 4\\nb = 5\\nc = 6\\n\\nprint(globals())', 'a = 4\\nb = 5\\nc = 6\\n\\nprint(globals()) #returns a dict containing all existing global variables.\\n#note a, b, c is included'], 'Out': {12: <function create_animal_class.<locals>.make_sound at 0x000002DC9EC3EE80>, 13: <function create_animal_class.<locals>.make_sound at 0x000002DC9EC3E0C0>}, 'get_ipython': <bound method InteractiveShell.get_ipython of <ipykernel.zmqshell.ZMQInteractiveShell object at 0x000002DC9D140680>>, 'exit': <IPython.core.autocall.ZMQExitAutocall object at 0x000002DC9CDD5EE0>, 'quit': <IPython.core.autocall.ZMQExitAutocall object at 0x000002DC9CDD5EE0>, 'open': <function open at 0x000002DC9C20F1A0>, '_': <function create_animal_class.<locals>.make_sound at 0x000002DC9EC3E0C0>, '__': <function create_animal_class.<locals>.make_sound at 0x000002DC9EC3EE80>, '___': '', '__vsc_ipynb_file__': 'c:\\\\Users\\\\이신엽\\\\Desktop\\\\Projects\\\\python\\\\python.ipynb', '_i': 'a = 4\\nb = 5\\nc = 6\\n\\nprint(globals())', '_ii': \"#comparison\\n# Regular class definition\\nclass Dog1:\\n    def __init__(self, name):\\n        self.name = name\\n    \\n    def bark(self):\\n        print('woof')\\n\\n# Using type()\\ndef __init__(self, name):\\n    self.name = name\\n\\ndef bark(self):\\n    print('woof')\\n\\nDog2 = type('Dog2', (), {'__init__': __init__, 'bark': bark})\\n\\n# Both classes work the same way\\ndog1 = Dog1('Rex')\\ndog2 = Dog2('Rex')\\n\\ndog1.bark()  # prints: woof\\ndog2.bark()  # prints: woof\", '_iii': \"#Using type() allows for dynamic class creation based on condition or data\\ndef create_animal_class(name, sound):\\n    def make_sound(self):\\n        print(sound)\\n    \\n    return type(name, (), {'make_sound': make_sound})\\n  \\nDog = create_animal_class('Dog', 'woof')\\nCat = create_animal_class('Cat', 'meow')\", '_i1': \"class Dog:\\n  __slots__ = ['name', 'age'] #only name and age attributes are now permitted.\\n\\ndog = Dog()\", 'Dog': <class '__main__.Dog'>, 'dog': <__main__.Dog object at 0x000002DC9E623730>, '_i2': \"class Dog:\\n  __slots__ = ['name', 'age'] #only name and age attributes are now permitted.\\n\\ndog = Dog()\\ndog.name = 'Shiro'\\ndog.age = 5\\n\\ndog.breed = 'Pom'\", '_i3': \"class Dog:\\n  __slots__ = ['name', 'age'] #only name and age attributes are now permitted.\\n\\ndog = Dog()\\ndog.name = 'Shiro'\\ndog.age = 5\\n\\ndog.breed = 'Pom' #This would cause an error\", '_i4': 'a = [1, 2]\\nb = [3, 4]\\n\\nx = [*a, *b]\\nprint(x)', 'a': 4, 'b': 5, 'x': [1, 2, [3, 4], 5, 6, [7, 8]], '_i5': 'a = [1, 2]\\nb = [3, 4]\\nc = [5, 6]\\nd = [7, 8]\\n\\nx = [*a, b, *c, d]\\nprint(x)', 'c': 6, 'd': [7, 8], '_i6': \"#normal way of creating class, using __init__\\nclass Dog:\\n  def __init__(self, name, age):\\n    self.name, self.age = name, age\\n    \\n  def bark(self):\\n    print('woof')\", '_i7': \"def __init__(self, name, age):\\n  self.name, self.age = name, age\\n  \\ndef bark(self):\\n  print('woof')\\n  \\nDog = type('Dog', (, {'__init__' : __init__, 'bark':bark}))\", '_i8': \"def __init__(self, name, age):\\n  self.name, self.age = name, age\\n  \\ndef bark(self):\\n  print('woof')\\n  \\nDog = type('Dog', ( {'__init__' : __init__, 'bark':bark}))\", '__init__': <function __init__ at 0x000002DC9EC3D6C0>, 'bark': <function bark at 0x000002DC9EC3FA60>, '_i9': \"def __init__(self, name):\\n    self.name = name\\n\\ndef bark(self):\\n    print('woof')\\n\\nDog = type('Dog', (), {'__init__': __init__, 'bark': bark})\", '_i10': \"#create class using type()\\ndef __init__(self, name):\\n    self.name = name\\n\\ndef bark(self):\\n    print('woof')\\n\\nDog = type('Dog', (), {'__init__': __init__, 'bark': bark})\", '_i11': \"#Using type() allows for dynamic class creation based on condition or data\\ndef create_animal_class(name, sound):\\n    def make_sound(self):\\n        print(sound)\\n    \\n    return type(name, (), {'make_sound': make_sound})\\n  \\nDog = create_animal_class('Dog', 'woof')\\nCat = create_animal_class('Cat', 'meow')\", 'create_animal_class': <function create_animal_class at 0x000002DC9EC3EF20>, 'Cat': <class '__main__.Cat'>, '_i12': \"#Using type() allows for dynamic class creation based on condition or data\\ndef create_animal_class(name, sound):\\n    def make_sound(self):\\n        print(sound)\\n    \\n    return type(name, (), {'make_sound': make_sound})\\n  \\nDog = create_animal_class('Dog', 'woof')\\nCat = create_animal_class('Cat', 'meow')\\n\\nDog.make_sound\\nCat.make_sound\", '_12': <function create_animal_class.<locals>.make_sound at 0x000002DC9EC3EE80>, '_i13': \"#Using type() allows for dynamic class creation based on condition or data\\ndef create_animal_class(name, sound):\\n    def make_sound(self):\\n        print(sound)\\n    \\n    return type(name, (), {'make_sound': make_sound})\\n  \\nDog = create_animal_class('Dog', 'woof')\\nCat = create_animal_class('Cat', 'meow')\\n\\nDog.make_sound\", '_13': <function create_animal_class.<locals>.make_sound at 0x000002DC9EC3E0C0>, '_i14': \"#Using type() allows for dynamic class creation based on condition or data\\ndef create_animal_class(name, sound):\\n    def make_sound(self):\\n        print(sound)\\n    \\n    return type(name, (), {'make_sound': make_sound})\\n  \\nDog = create_animal_class('Dog', 'woof')\\nCat = create_animal_class('Cat', 'meow')\", '_i15': \"#comparison\\n# Regular class definition\\nclass Dog1:\\n    def __init__(self, name):\\n        self.name = name\\n    \\n    def bark(self):\\n        print('woof')\\n\\n# Using type()\\ndef __init__(self, name):\\n    self.name = name\\n\\ndef bark(self):\\n    print('woof')\\n\\nDog2 = type('Dog2', (), {'__init__': __init__, 'bark': bark})\\n\\n# Both classes work the same way\\ndog1 = Dog1('Rex')\\ndog2 = Dog2('Rex')\\n\\ndog1.bark()  # prints: woof\\ndog2.bark()  # prints: woof\", 'Dog1': <class '__main__.Dog1'>, 'Dog2': <class '__main__.Dog2'>, 'dog1': <__main__.Dog1 object at 0x000002DC9E4B1580>, 'dog2': <__main__.Dog2 object at 0x000002DC9E64C3B0>, '_i16': 'a = 4\\nb = 5\\nc = 6\\n\\nprint(globals())', '_i17': 'a = 4\\nb = 5\\nc = 6\\n\\nprint(globals()) #returns a dict containing all existing global variables.\\n#note a, b, c is included'}\n"
     ]
    }
   ],
   "source": [
    "a = 4\n",
    "b = 5\n",
    "c = 6\n",
    "\n",
    "print(globals()) #returns a dict containing all existing global variables.\n",
    "#note a, b, c is included"
   ]
  },
  {
   "cell_type": "code",
   "execution_count": 19,
   "metadata": {},
   "outputs": [
    {
     "data": {
      "text/plain": [
       "'apple'"
      ]
     },
     "execution_count": 19,
     "metadata": {},
     "output_type": "execute_result"
    }
   ],
   "source": [
    "def glob() :\n",
    "  globals()['a'] = 'apple' #sets variables globally.\n",
    "  globals()['b'] = 'orange'\n",
    "\n",
    "glob()  \n",
    "a"
   ]
  },
  {
   "cell_type": "markdown",
   "metadata": {},
   "source": [
    "29. generator functions : ``yield`` vs. ``return``"
   ]
  },
  {
   "cell_type": "code",
   "execution_count": 22,
   "metadata": {},
   "outputs": [
    {
     "name": "stdout",
     "output_type": "stream",
     "text": [
      "computing add10\n"
     ]
    },
    {
     "data": {
      "text/plain": [
       "11"
      ]
     },
     "execution_count": 22,
     "metadata": {},
     "output_type": "execute_result"
    }
   ],
   "source": [
    "def add10(x):\n",
    "  print('computing add10')\n",
    "  return x + 10\n",
    "  print('this wont be printed') #in a normal function, nothing else is executed after return statement.\n",
    "\n",
    "add10(1)"
   ]
  },
  {
   "cell_type": "code",
   "execution_count": 25,
   "metadata": {},
   "outputs": [
    {
     "name": "stdout",
     "output_type": "stream",
     "text": [
      "<generator object fruit at 0x000002DC9EBEADA0>\n",
      "apple\n",
      "pear\n",
      "orange\n"
     ]
    }
   ],
   "source": [
    "def fruit():\n",
    "  yield 'apple'\n",
    "  yield 'pear'\n",
    "  yield 'orange'\n",
    "  \n",
    "print(fruit()) #returns a generator object\n",
    "\n",
    "for fr in fruit():\n",
    "  print(fr)\n",
    "\n",
    "  \"\"\"\n",
    "  Generator functions using yield are more memory efficient than normal functions using return \n",
    "  because they generate values on-the-fly (lazy evaluation) rather than creating and storing all values in memory at once. \n",
    "  This means they only compute and store the next value when it's requested, rather than computing and storing all values upfront.\n",
    "  \"\"\""
   ]
  },
  {
   "cell_type": "code",
   "execution_count": 28,
   "metadata": {},
   "outputs": [],
   "source": [
    "#use cases:\n",
    "\n",
    "#1. Large Data Sets: When working with large sequences of data that don't need to be processed all at once.\n",
    "\n",
    "# Instead of this (loads all numbers into memory):\n",
    "def get_numbers():\n",
    "    return [i for i in range(1000000)]\n",
    "\n",
    "# Use this (generates one number at a time):\n",
    "def get_numbers():\n",
    "    for i in range(1000000):\n",
    "        yield i\n",
    "        \n",
    "#2. Streaming Data: When processing data streams or reading large files line by line\n",
    "def read_large_file(filename):\n",
    "    with open(filename) as f:\n",
    "        for line in f:\n",
    "            yield line\n",
    "            \n",
    "#3. Infinite Sequences: When you need to work with potentially infinite sequences:\n",
    "def infinite_counter():\n",
    "    count = 0\n",
    "    while True:\n",
    "        yield count\n",
    "        count += 1\n",
    "        \n",
    "#4. Memory-Intensive Operations: When you need to process data that would consume too much memory if stored all at once:\n",
    "def process_large_dataset(data):\n",
    "    for item in data:\n",
    "        # Process one item at a time\n",
    "        processed_item = heavy_computation(item)\n",
    "        yield processed_item\n",
    "        \n",
    "#5. Pipeline Processing: When you want to create data processing pipelines:\n",
    "def filter_even(numbers):\n",
    "    for n in numbers:\n",
    "        if n % 2 == 0:\n",
    "            yield n\n",
    "\n",
    "def square_numbers(numbers):\n",
    "    for n in numbers:\n",
    "        yield n * n\n",
    "\n",
    "# Usage\n",
    "numbers = range(1000000)\n",
    "even_squares = square_numbers(filter_even(numbers))\n"
   ]
  },
  {
   "cell_type": "markdown",
   "metadata": {},
   "source": [
    "30. Sort list by custom conditions"
   ]
  },
  {
   "cell_type": "code",
   "execution_count": 30,
   "metadata": {},
   "outputs": [
    {
     "name": "stdout",
     "output_type": "stream",
     "text": [
      "['apple', 'orange', 'pear']\n"
     ]
    }
   ],
   "source": [
    "ls = ['apple', 'pear', 'orange']\n",
    "ls.sort() #sorts list in alphabetical order\n",
    "\n",
    "print(ls)"
   ]
  },
  {
   "cell_type": "code",
   "execution_count": 32,
   "metadata": {},
   "outputs": [
    {
     "name": "stdout",
     "output_type": "stream",
     "text": [
      "['pear', 'apple', 'orange']\n"
     ]
    }
   ],
   "source": [
    "ls = ['apple', 'pear', 'orange']\n",
    "\n",
    "def condition(element): #the condition function should take in 1 element and returns the condition to sort by.\n",
    "  return len(element)\n",
    "\n",
    "ls.sort(key=condition) #sorts list by  given function\n",
    "print(ls)"
   ]
  },
  {
   "cell_type": "markdown",
   "metadata": {},
   "source": [
    "31. ``:=`` operator : allows assigning values to variables as part of an expression."
   ]
  },
  {
   "cell_type": "code",
   "execution_count": 35,
   "metadata": {},
   "outputs": [
    {
     "name": "stdout",
     "output_type": "stream",
     "text": [
      "apple juice\n",
      "apple juice\n"
     ]
    }
   ],
   "source": [
    "fruit = 'apple'\n",
    "if fruit == 'apple':\n",
    "  print('apple juice')\n",
    "else : \n",
    "  print('bohoo')\n",
    "  \n",
    "if (fruit := 'apple') == 'apple':\n",
    "  print('apple juice')\n",
    "else: \n",
    "  pass"
   ]
  },
  {
   "cell_type": "code",
   "execution_count": 36,
   "metadata": {},
   "outputs": [],
   "source": [
    "# Without walrus\n",
    "while True:\n",
    "    line = input()\n",
    "    if not line:\n",
    "        break\n",
    "    process(line)\n",
    "\n",
    "# With walrus\n",
    "while (line := input()):\n",
    "    process(line)"
   ]
  },
  {
   "cell_type": "markdown",
   "metadata": {},
   "source": [
    "32. using ``enumerate()`` for iteration"
   ]
  },
  {
   "cell_type": "code",
   "execution_count": 40,
   "metadata": {},
   "outputs": [
    {
     "name": "stdout",
     "output_type": "stream",
     "text": [
      "0 apple\n",
      "1 orange\n",
      "2 pear\n",
      "0 apple\n",
      "1 orange\n",
      "2 pear\n"
     ]
    }
   ],
   "source": [
    "fruits = ['apple', 'orange', 'pear']\n",
    "for i in range(len(fruits)):\n",
    "  fruit = fruits[i]\n",
    "  print(i, fruit)\n",
    "  \n",
    "for i, fruit in enumerate(fruits):\n",
    "  print(i, fruit)"
   ]
  },
  {
   "cell_type": "markdown",
   "metadata": {},
   "source": [
    "33. ``zip`` for iteration"
   ]
  },
  {
   "cell_type": "code",
   "execution_count": 42,
   "metadata": {},
   "outputs": [
    {
     "name": "stdout",
     "output_type": "stream",
     "text": [
      "apple 4\n",
      "orange 5\n",
      "pear 6\n"
     ]
    }
   ],
   "source": [
    "#using zip() allows iteration through 2 or more iterables at once.\n",
    "fruits = ['apple', 'orange', 'pear']\n",
    "prices = [4, 5, 6]\n",
    "\n",
    "for fruit, price in zip(fruits, prices):\n",
    "  print(fruit, price)"
   ]
  },
  {
   "cell_type": "code",
   "execution_count": 43,
   "metadata": {},
   "outputs": [
    {
     "name": "stdout",
     "output_type": "stream",
     "text": [
      "apple 1 sg\n",
      "orange 2 my\n"
     ]
    }
   ],
   "source": [
    "#iteration is limited by the shortest iterable passed \n",
    "fruits = ['apple', 'orange']\n",
    "numbers = [1, 2, 3, 4, 5, 6]\n",
    "countries = ['sg', 'my', 'th', 'ph']\n",
    "for f, n, c in zip(fruits, numbers, countries):\n",
    "  print(f, n, c)"
   ]
  },
  {
   "cell_type": "markdown",
   "metadata": {},
   "source": [
    "From : https://bytefish.medium.com/why-is-python-so-popular-despite-being-slow-d8ce4b3482fa"
   ]
  },
  {
   "cell_type": "markdown",
   "metadata": {},
   "source": [
    "34. numerical operations : improve performance using ``numpy``"
   ]
  },
  {
   "cell_type": "code",
   "execution_count": 46,
   "metadata": {},
   "outputs": [
    {
     "name": "stdout",
     "output_type": "stream",
     "text": [
      "Total sum: 49999995000000\n",
      "Execution time: 0.350363 seconds\n"
     ]
    },
    {
     "data": {
      "text/plain": [
       "\"\\nPython Loop Overhead:\\nEach iteration of the for loop in Python involves:\\nCreating a new integer object for i\\nChecking the loop condition\\nIncrementing the counter\\nManaging the loop state\\nPython's dynamic typing means each operation requires type checking and object creation\\n\""
      ]
     },
     "execution_count": 46,
     "metadata": {},
     "output_type": "execute_result"
    }
   ],
   "source": [
    "import time\n",
    "\n",
    "def sum_numbers():\n",
    "    start_time = time.time()\n",
    "    total = 0\n",
    "    for i in range(10_000_000):\n",
    "        total += i\n",
    "    end_time = time.time()\n",
    "    print(f\"Total sum: {total}\")\n",
    "    print(f\"Execution time: {end_time - start_time:.6f} seconds\")\n",
    "\n",
    "sum_numbers()\n",
    "\n",
    "\"\"\"\n",
    "Python Loop Overhead:\n",
    "Each iteration of the for loop in Python involves:\n",
    "-Creating a new integer object for i\n",
    "-Checking the loop condition\n",
    "-Incrementing the counter\n",
    "-Managing the loop state\n",
    "Python's dynamic typing means each operation requires type checking and object creation\n",
    "\n",
    "Memory Management:\n",
    "-Each number in the range is created as a separate Python integer object\n",
    "These objects are scattered in memory, leading to poor cache utilization\n",
    "\n",
    "\"\"\""
   ]
  },
  {
   "cell_type": "code",
   "execution_count": 45,
   "metadata": {},
   "outputs": [
    {
     "name": "stdout",
     "output_type": "stream",
     "text": [
      "Total sum (numpy): -2014260032\n",
      "Execution time (numpy): 0.018664 seconds\n"
     ]
    }
   ],
   "source": [
    "import time\n",
    "import numpy as np\n",
    "\n",
    "def sum_numbers_numpy():\n",
    "    start_time = time.time()\n",
    "    total = np.sum(np.arange(10_000_000))\n",
    "    end_time = time.time()\n",
    "    print(f\"Total sum (numpy): {total}\")\n",
    "    print(f\"Execution time (numpy): {end_time - start_time:.6f} seconds\")\n",
    "\n",
    "\n",
    "sum_numbers_numpy()\n",
    "\"\"\"\n",
    "-np.arange() creates a single, contiguous block of memory for all numbers\n",
    "-np.sum() operates on the entire array at once using optimized C code\n",
    "-NumPy arrays store data in contiguous memory blocks\n",
    "\n",
    "\"\"\""
   ]
  },
  {
   "cell_type": "markdown",
   "metadata": {},
   "source": [
    "35. ``numba`` : JIT compiler that translates Python code to optimized machine code using LLVM"
   ]
  },
  {
   "cell_type": "code",
   "execution_count": 2,
   "metadata": {},
   "outputs": [],
   "source": [
    "#usage: \n",
    "# - add @jit decorator to functions containing numerical computations.\n",
    "# - add @numba.vectorize for array operations that run on multiple cores or gpu"
   ]
  },
  {
   "cell_type": "code",
   "execution_count": 1,
   "metadata": {},
   "outputs": [
    {
     "name": "stdout",
     "output_type": "stream",
     "text": [
      "Python version result: 3333762.140778\n",
      "Numba version result:  3333762.140778\n",
      "Python execution time: 1.674312 seconds\n",
      "Numba execution time:  0.005961 seconds\n",
      "Speedup factor:        280.89x\n"
     ]
    }
   ],
   "source": [
    "import numpy as np\n",
    "import time\n",
    "from numba import jit\n",
    "\n",
    "# Test data\n",
    "size = 10_000_000\n",
    "data = np.random.random(size)\n",
    "\n",
    "# BEFORE: Pure Python implementation\n",
    "def python_function(x):\n",
    "    result = 0.0\n",
    "    for i in range(len(x)):\n",
    "        result += x[i] * x[i]\n",
    "    return result\n",
    "\n",
    "# AFTER: Numba-optimized implementation\n",
    "@jit(nopython=True)\n",
    "def numba_function(x):\n",
    "    result = 0.0\n",
    "    for i in range(len(x)):\n",
    "        result += x[i] * x[i]\n",
    "    return result\n",
    "\n",
    "# Performance comparison\n",
    "def test_performance():\n",
    "    # Warm-up for Numba (first call includes compilation time)\n",
    "    numba_function(data[:1000])\n",
    "    \n",
    "    # Test python version\n",
    "    start = time.time()\n",
    "    python_result = python_function(data)\n",
    "    python_time = time.time() - start\n",
    "    \n",
    "    # Test numba version\n",
    "    start = time.time()\n",
    "    numba_result = numba_function(data)\n",
    "    numba_time = time.time() - start\n",
    "    \n",
    "    # Output results\n",
    "    print(f\"Python version result: {python_result:.6f}\")\n",
    "    print(f\"Numba version result:  {numba_result:.6f}\")\n",
    "    print(f\"Python execution time: {python_time:.6f} seconds\")\n",
    "    print(f\"Numba execution time:  {numba_time:.6f} seconds\")\n",
    "    print(f\"Speedup factor:        {python_time/numba_time:.2f}x\")\n",
    "\n",
    "test_performance()"
   ]
  },
  {
   "cell_type": "markdown",
   "metadata": {},
   "source": [
    "36. Other libraries that improve performance"
   ]
  },
  {
   "cell_type": "markdown",
   "metadata": {},
   "source": [
    "37. ``round()`` to negative decimals"
   ]
  },
  {
   "cell_type": "code",
   "execution_count": 1,
   "metadata": {},
   "outputs": [
    {
     "name": "stdout",
     "output_type": "stream",
     "text": [
      "12346\n",
      "12350.0\n",
      "12300.0\n",
      "12345.7\n",
      "12345.68\n"
     ]
    }
   ],
   "source": [
    "num = 12345.6789\n",
    "print(round(num))\n",
    "print(round(num, -1))\n",
    "print(round(num, -2))\n",
    "print(round(num,1))\n",
    "print(round(num,2))"
   ]
  },
  {
   "cell_type": "markdown",
   "metadata": {},
   "source": [
    "38. numbers in scientific notation"
   ]
  },
  {
   "cell_type": "code",
   "execution_count": 2,
   "metadata": {},
   "outputs": [
    {
     "name": "stdout",
     "output_type": "stream",
     "text": [
      "1410000 14100000.0\n"
     ]
    }
   ],
   "source": [
    "x = 1410000\n",
    "y = 1.41e7\n",
    "\n",
    "print(x,y)"
   ]
  },
  {
   "cell_type": "code",
   "execution_count": 4,
   "metadata": {},
   "outputs": [
    {
     "name": "stdout",
     "output_type": "stream",
     "text": [
      "31400000000.0\n",
      "0.0314\n"
     ]
    }
   ],
   "source": [
    "print(3.14e10)\n",
    "print(3.14e-2)"
   ]
  },
  {
   "cell_type": "markdown",
   "metadata": {},
   "source": [
    "39. match blocks"
   ]
  },
  {
   "cell_type": "code",
   "execution_count": 5,
   "metadata": {},
   "outputs": [
    {
     "name": "stdout",
     "output_type": "stream",
     "text": [
      "unknown fruit\n"
     ]
    }
   ],
   "source": [
    "fr = input(\"enter a fruit\")\n",
    "\n",
    "if fr == 'apple':\n",
    "  print('apple juice')\n",
    "  \n",
    "elif fr == 'orange':\n",
    "    print('orange juice')\n",
    "elif fr == 'grape':\n",
    "    print('grape juice')\n",
    "elif fr == 'mango':\n",
    "    print('mango juice')\n",
    "else:\n",
    "    print('unknown fruit')\n"
   ]
  },
  {
   "cell_type": "code",
   "execution_count": 6,
   "metadata": {},
   "outputs": [
    {
     "name": "stdout",
     "output_type": "stream",
     "text": [
      "mango juice\n"
     ]
    }
   ],
   "source": [
    "fr = input(\"enter a fruit\")\n",
    "\n",
    "match fr:\n",
    "    case 'apple':\n",
    "        print('apple juice')\n",
    "    case 'orange':\n",
    "        print('orange juice')\n",
    "    case 'grape':\n",
    "        print('grape juice')\n",
    "    case 'mango':\n",
    "        print('mango juice')\n",
    "    case _:\n",
    "        print('unknown fruit')\n"
   ]
  },
  {
   "cell_type": "markdown",
   "metadata": {},
   "source": [
    "40. List Comprehension for nested loops"
   ]
  },
  {
   "cell_type": "code",
   "execution_count": 8,
   "metadata": {},
   "outputs": [
    {
     "data": {
      "text/plain": [
       "['APPLE', 'ORANGE', 'PEAR']"
      ]
     },
     "execution_count": 8,
     "metadata": {},
     "output_type": "execute_result"
    }
   ],
   "source": [
    "fr = ['apple', 'orange', 'pear']\n",
    "\n",
    "new = []\n",
    "\n",
    "for f in fr:\n",
    "  new.append(f.upper())\n",
    "\n",
    "new"
   ]
  },
  {
   "cell_type": "code",
   "execution_count": 10,
   "metadata": {},
   "outputs": [
    {
     "data": {
      "text/plain": [
       "['apple', 'orange', 'pear']"
      ]
     },
     "execution_count": 10,
     "metadata": {},
     "output_type": "execute_result"
    }
   ],
   "source": [
    "#using list comprehension\n",
    "\n",
    "fr = ['apple', 'orange', 'pear']\n",
    "\n",
    "new = [f.lower() for f in fr]\n",
    "new"
   ]
  }
 ],
 "metadata": {
  "kernelspec": {
   "display_name": "Python 3",
   "language": "python",
   "name": "python3"
  },
  "language_info": {
   "codemirror_mode": {
    "name": "ipython",
    "version": 3
   },
   "file_extension": ".py",
   "mimetype": "text/x-python",
   "name": "python",
   "nbconvert_exporter": "python",
   "pygments_lexer": "ipython3",
   "version": "3.11.9"
  }
 },
 "nbformat": 4,
 "nbformat_minor": 2
}
