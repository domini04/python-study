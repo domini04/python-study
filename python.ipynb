{
 "cells": [
  {
   "cell_type": "markdown",
   "metadata": {},
   "source": [
    "<h1>From '101 Things I never Knew about Python' - <a>https://payhip.com/b/vywcf</a>\n",
    "</h1>"
   ]
  },
  {
   "cell_type": "markdown",
   "metadata": {},
   "source": [
    "1) combining dictionaries with unpacking"
   ]
  },
  {
   "cell_type": "code",
   "execution_count": 5,
   "metadata": {},
   "outputs": [
    {
     "name": "stdout",
     "output_type": "stream",
     "text": [
      "{'a': 1, 'b': 2, 'c': 3, 'd': 4}\n"
     ]
    }
   ],
   "source": [
    "a = {'a': 1, 'b': 2}\n",
    "b = {'c': 3, 'd': 4}\n",
    "\n",
    "c = {**a, **b}\n",
    "print(c)"
   ]
  },
  {
   "cell_type": "code",
   "execution_count": 1,
   "metadata": {},
   "outputs": [
    {
     "name": "stdout",
     "output_type": "stream",
     "text": [
      "{'a': 5, 'b': 2, 'c': 3, 'd': 6}\n"
     ]
    }
   ],
   "source": [
    "#When there are conlflicting keys, the last one wins\n",
    "\n",
    "# 2) combining dictionaries with unpacking\n",
    "a = {'a': 1, 'b': 2}\n",
    "b = {'c': 3, 'd': 4}\n",
    "c = {'a': 5, 'd': 6}\n",
    "\n",
    "d = {**a, **b, **c}\n",
    "print(d)\n",
    "\n",
    "\n"
   ]
  },
  {
   "cell_type": "markdown",
   "metadata": {},
   "source": [
    "2. __getattr__"
   ]
  },
  {
   "cell_type": "code",
   "execution_count": 3,
   "metadata": {},
   "outputs": [
    {
     "name": "stdout",
     "output_type": "stream",
     "text": [
      "1\n",
      "2\n",
      "3\n",
      "d\n"
     ]
    }
   ],
   "source": [
    "#when __getattr__ is called on attribute that doesn't exist, it will return the key\n",
    "\n",
    "class A:\n",
    "  def __init__(self, a, b, c):\n",
    "    self.a = a\n",
    "    self.b = b\n",
    "    self.c = c\n",
    "\n",
    "  def __getattr__(self, attr):\n",
    "    return attr\n",
    "\n",
    "a = A(1, 2, 3)\n",
    "print(a.a)\n",
    "print(a.b)\n",
    "print(a.c)\n",
    "\n",
    "print(a.d )"
   ]
  },
  {
   "cell_type": "code",
   "execution_count": 4,
   "metadata": {},
   "outputs": [
    {
     "name": "stdout",
     "output_type": "stream",
     "text": [
      "<__main__.B object at 0x000001AA2D7AEE40>\n",
      "<__main__.B object at 0x000001AA2D7AE330>\n"
     ]
    }
   ],
   "source": [
    "#__getattr__ can be customized to return a new instance of the class\n",
    "\n",
    "class B:\n",
    "  def __getattr__(self, attr):\n",
    "    return B()\n",
    "  \n",
    "b = B()\n",
    "print(b.a)\n",
    "print(b.a.a)\n"
   ]
  },
  {
   "cell_type": "markdown",
   "metadata": {},
   "source": [
    "3.pretty print"
   ]
  },
  {
   "cell_type": "code",
   "execution_count": 2,
   "metadata": {},
   "outputs": [
    {
     "name": "stdout",
     "output_type": "stream",
     "text": [
      "{'x': {'a': 1, 'b': 2, 'c': 3}, 'y': {'a': 3, 'b': 4, 'c': 5}, 'z': {'a': 5, 'b': 6, 'c': 7}}\n",
      "{'x': {'a': 1, 'b': 2, 'c': 3},\n",
      " 'y': {'a': 3, 'b': 4, 'c': 5},\n",
      " 'z': {'a': 5, 'b': 6, 'c': 7}}\n"
     ]
    }
   ],
   "source": [
    "double_dict = {\n",
    "  'x' : {\"a\" : 1, \"b\" : 2, \"c\" : 3},\n",
    "  'y' : {\"a\" : 3, \"b\" : 4, \"c\" : 5},\n",
    "  'z' : {\"a\" : 5, \"b\" : 6, \"c\" : 7},\n",
    "}\n",
    "\n",
    "print(double_dict)\n",
    "\n",
    "from pprint import pprint\n",
    "pprint(double_dict)\n",
    "\n",
    "\n",
    "\n",
    "\n",
    "\n",
    "\n"
   ]
  },
  {
   "cell_type": "markdown",
   "metadata": {},
   "source": [
    "4. Get all alphabet"
   ]
  },
  {
   "cell_type": "code",
   "execution_count": 3,
   "metadata": {},
   "outputs": [
    {
     "name": "stdout",
     "output_type": "stream",
     "text": [
      "abcdefghijklmnopqrstuvwxyz\n"
     ]
    }
   ],
   "source": [
    "from string import ascii_lowercase\n",
    "print(ascii_lowercase)\n"
   ]
  },
  {
   "cell_type": "markdown",
   "metadata": {},
   "source": [
    "5. {var=}"
   ]
  },
  {
   "cell_type": "code",
   "execution_count": 1,
   "metadata": {},
   "outputs": [
    {
     "name": "stdout",
     "output_type": "stream",
     "text": [
      "shin is 31 years old\n",
      "name='shin' age=31\n"
     ]
    }
   ],
   "source": [
    "name = 'shin'\n",
    "age = 31\n",
    "\n",
    "print(f'{name} is {age} years old')\n",
    "print(f'{name=} {age=}')\n",
    "\n",
    "\n",
    "\n",
    "\n",
    "\n"
   ]
  },
  {
   "cell_type": "markdown",
   "metadata": {},
   "source": [
    "6. dict()"
   ]
  },
  {
   "cell_type": "code",
   "execution_count": 3,
   "metadata": {},
   "outputs": [],
   "source": [
    "dic1 = {'a':1, 'b':2, 'c':3, 'd':4}\n",
    "dic2 = dict(a=1, b=2, c=3, d=4)\n"
   ]
  },
  {
   "cell_type": "markdown",
   "metadata": {},
   "source": [
    "7. sort() vs. sorted()"
   ]
  },
  {
   "cell_type": "code",
   "execution_count": 4,
   "metadata": {},
   "outputs": [
    {
     "name": "stdout",
     "output_type": "stream",
     "text": [
      "[1, 2, 3, 4, 5]\n",
      "[1, 2, 3, 4, 5]\n"
     ]
    }
   ],
   "source": [
    "li = [1,5,3,2,4]\n",
    "\n",
    "li.sort()\n",
    "print(li)\n",
    "\n",
    "li_sorted = sorted(li)\n",
    "print(li_sorted)\n",
    "\n",
    "\n",
    "\n",
    "\n",
    "\n",
    "\n",
    "\n"
   ]
  },
  {
   "cell_type": "markdown",
   "metadata": {},
   "source": [
    "8. Decorator Syntaxes"
   ]
  },
  {
   "cell_type": "code",
   "execution_count": 5,
   "metadata": {},
   "outputs": [
    {
     "name": "stdout",
     "output_type": "stream",
     "text": [
      "Something before the function runs\n",
      "Hello!\n",
      "Something after the function runs\n"
     ]
    }
   ],
   "source": [
    "# Decorator : a function designed to modify another function without modifying its source code.\n",
    "\n",
    "def my_decorator(func):\n",
    "    def wrapper():\n",
    "        print(\"Something before the function runs\")\n",
    "        func()\n",
    "        print(\"Something after the function runs\")\n",
    "    return wrapper\n",
    "\n",
    "@my_decorator  # Equivalent to `say_hello = my_decorator(say_hello)`\n",
    "def say_hello():\n",
    "    print(\"Hello!\")\n",
    "    return (\"Hello World\")\n",
    "\n",
    "say_hello()\n"
   ]
  },
  {
   "cell_type": "code",
   "execution_count": 7,
   "metadata": {},
   "outputs": [
    {
     "name": "stdout",
     "output_type": "stream",
     "text": [
      "Hello!\n"
     ]
    }
   ],
   "source": [
    "def add_exclamanation(func):\n",
    "  def wrapper():\n",
    "    return func() + \"!\"\n",
    "  return wrapper\n",
    "\n",
    "@add_exclamanation\n",
    "def say_hello():\n",
    "  return \"Hello\"\n",
    "\n",
    "print(say_hello())\n",
    "\n",
    "\n",
    "\n",
    "\n"
   ]
  },
  {
   "cell_type": "markdown",
   "metadata": {},
   "source": [
    "9. Positive vs. Negative Infinity"
   ]
  },
  {
   "cell_type": "code",
   "execution_count": 9,
   "metadata": {},
   "outputs": [
    {
     "name": "stdout",
     "output_type": "stream",
     "text": [
      "inf\n",
      "-inf\n"
     ]
    }
   ],
   "source": [
    "# positive infinity float('inf') is larger than all other numbers\n",
    "# negative infinity float('-inf') is smaller than all other numbers\n",
    "\n",
    "a = float('inf')\n",
    "b = float('-inf')\n",
    "\n",
    "print(a)\n",
    "print(b)\n",
    "\n",
    "\n",
    "\n"
   ]
  },
  {
   "cell_type": "markdown",
   "metadata": {},
   "source": [
    "10. int() vs. float()"
   ]
  },
  {
   "cell_type": "code",
   "execution_count": 11,
   "metadata": {},
   "outputs": [
    {
     "name": "stdout",
     "output_type": "stream",
     "text": [
      "0\n",
      "0.0\n"
     ]
    }
   ],
   "source": [
    "# int() evaluates to 0, while float() evaluates to 0.0\n",
    "a = int()\n",
    "print(a)\n",
    "\n",
    "b = float()\n",
    "print(b)\n",
    "\n",
    "\n"
   ]
  },
  {
   "cell_type": "markdown",
   "metadata": {},
   "source": [
    "11. Dog()()()()()()"
   ]
  },
  {
   "cell_type": "code",
   "execution_count": 16,
   "metadata": {},
   "outputs": [
    {
     "name": "stdout",
     "output_type": "stream",
     "text": [
      "Woof!\n"
     ]
    }
   ],
   "source": [
    "from typing import Any\n",
    "\n",
    "\n",
    "class Dog:\n",
    "  def __call__(self, *args: Any, **kwds: Any) -> Any:\n",
    "    return \"Woof!\"\n",
    "  \n",
    "dog = Dog()\n",
    "print(dog())"
   ]
  },
  {
   "cell_type": "code",
   "execution_count": 17,
   "metadata": {},
   "outputs": [
    {
     "name": "stdout",
     "output_type": "stream",
     "text": [
      "<__main__.Dog object at 0x00000226A3DCA1E0>\n",
      "<class '__main__.Dog'>\n",
      "<__main__.Dog object at 0x00000226A3DCB7D0>\n",
      "<class '__main__.Dog'>\n",
      "<__main__.Dog object at 0x00000226A3DCB7D0>\n",
      "<class '__main__.Dog'>\n"
     ]
    }
   ],
   "source": [
    "#__call__ can be configured to return the class\n",
    "from typing import Any\n",
    "\n",
    "class Dog:\n",
    "  def __call__(self, *args: Any, **kwds: Any) -> Any:\n",
    "    return Dog\n",
    "dog = Dog()\n",
    "print(dog) # the Dog object\n",
    "print(dog()) # the Dog class\n",
    "print(dog()()) # a new Dog object\n",
    "print(dog()()()) # the Dog class again\n",
    "print(dog()()()()) # another new Dog object\n",
    "print(dog()()()()()) # the Dog class again"
   ]
  },
  {
   "cell_type": "markdown",
   "metadata": {},
   "source": [
    "12. assert statements"
   ]
  },
  {
   "cell_type": "code",
   "execution_count": 20,
   "metadata": {},
   "outputs": [
    {
     "ename": "AssertionError",
     "evalue": "Score must be positive",
     "output_type": "error",
     "traceback": [
      "\u001b[1;31m---------------------------------------------------------------------------\u001b[0m",
      "\u001b[1;31mAssertionError\u001b[0m                            Traceback (most recent call last)",
      "Cell \u001b[1;32mIn[20], line 5\u001b[0m\n\u001b[0;32m      1\u001b[0m \u001b[38;5;66;03m#precheck using assert statements. If it fails, AssertionError happens\u001b[39;00m\n\u001b[0;32m      3\u001b[0m score \u001b[38;5;241m=\u001b[39m \u001b[38;5;241m-\u001b[39m\u001b[38;5;241m1\u001b[39m\n\u001b[1;32m----> 5\u001b[0m \u001b[38;5;28;01massert\u001b[39;00m score \u001b[38;5;241m>\u001b[39m\u001b[38;5;241m=\u001b[39m\u001b[38;5;241m0\u001b[39m, \u001b[38;5;124m\"\u001b[39m\u001b[38;5;124mScore must be positive\u001b[39m\u001b[38;5;124m\"\u001b[39m\n\u001b[0;32m      6\u001b[0m \u001b[38;5;28;01massert\u001b[39;00m score \u001b[38;5;241m<\u001b[39m\u001b[38;5;241m=\u001b[39m\u001b[38;5;241m100\u001b[39m, \u001b[38;5;124m\"\u001b[39m\u001b[38;5;124mScore must be less than 100\u001b[39m\u001b[38;5;124m\"\u001b[39m\n",
      "\u001b[1;31mAssertionError\u001b[0m: Score must be positive"
     ]
    }
   ],
   "source": [
    "#precheck using assert statements. If it fails, AssertionError happens\n",
    "\n",
    "score = -1\n",
    "\n",
    "assert score >=0, \"Score must be positive\"\n",
    "assert score <=100, \"Score must be less than 100\"\n"
   ]
  },
  {
   "cell_type": "markdown",
   "metadata": {},
   "source": [
    "13. __init__.py\n",
    "\n",
    "https://python.plainenglish.io/how-i-learned-to-love-f-a-simple-guide-120857df7af0\n",
    "\n",
    "#__init__.py : when a package is imported, the __init__.py inside it is always ran first.\n",
    "\n",
    "This can be used for configuration settings or setting important variables"
   ]
  },
  {
   "cell_type": "code",
   "execution_count": null,
   "metadata": {},
   "outputs": [],
   "source": [
    "#assuming this is __init__.py :\n",
    "from .module1 import MyClass  #this will not work on jupyter notebook, since it cannot run relative imports.\n",
    "from .module2 import useful_functions\n",
    "\n",
    "__all__ = ['MyClass', 'useful_functions']"
   ]
  },
  {
   "cell_type": "code",
   "execution_count": 9,
   "metadata": {},
   "outputs": [],
   "source": [
    "#The above will allow the use of:\n",
    "from mypackage import MyClass, useful_functions"
   ]
  },
  {
   "cell_type": "code",
   "execution_count": null,
   "metadata": {},
   "outputs": [],
   "source": [
    "#__init__.py can also be used to set up logging or database connections\n",
    "\n",
    "import logging\n",
    "logging.basicConfig(level=logging.WARNING)\n",
    "logging.info(\"mypackage is ready\")\n",
    "\n",
    "#mock code for database connection\n"
   ]
  },
  {
   "cell_type": "code",
   "execution_count": 1,
   "metadata": {},
   "outputs": [],
   "source": [
    "# A Few Simple Tips for Using __init__.py    \n",
    "    # Keep It Simple:\n",
    "      # Use __init__.py for basic setup and to define what parts of your package should be available to users. Avoid putting too much code in there.\n",
    "    # Comment Your Code:\n",
    "      # Leave comments explaining what your __init__.py does. This helps you and others understand the purpose of the code later on.\n",
    "    # Use __all__ to Control the Public API:\n",
    "      # By listing the names in __all__, you make it clear which parts of your package are meant to be used by others.\n",
    "    # Test Your Setup:\n",
    "      # Since __init__.py runs every time the package is imported, make sure it’s working correctly by testing it thoroughly."
   ]
  },
  {
   "cell_type": "markdown",
   "metadata": {},
   "source": [
    "14. tuple unpacking"
   ]
  },
  {
   "cell_type": "code",
   "execution_count": 3,
   "metadata": {},
   "outputs": [
    {
     "name": "stdout",
     "output_type": "stream",
     "text": [
      "5 4\n"
     ]
    }
   ],
   "source": [
    "a = 4\n",
    "b = 5\n",
    "a, b = b, a\n",
    "print(a, b)"
   ]
  },
  {
   "cell_type": "code",
   "execution_count": 6,
   "metadata": {},
   "outputs": [
    {
     "name": "stdout",
     "output_type": "stream",
     "text": [
      "6 5 4\n"
     ]
    }
   ],
   "source": [
    "a, b, c = 4, 5, 6\n",
    "a, b, c, a, b = b, c, a, c, b\n",
    "print(a, b, c)\n",
    "\n",
    "#this equals to a,b,c,a,b = (5,6,4,6,5) : The value on the right side is fixed\n",
    "#1. a = 5\n",
    "#2. b = 6\n",
    "#3. c = 4\n",
    "#4. a = 6\n",
    "#5. b = 5\n",
    "\n"
   ]
  },
  {
   "cell_type": "markdown",
   "metadata": {},
   "source": [
    "15. adding a list to itself"
   ]
  },
  {
   "cell_type": "code",
   "execution_count": 3,
   "metadata": {},
   "outputs": [
    {
     "data": {
      "text/plain": [
       "['apple', 'orange']"
      ]
     },
     "execution_count": 3,
     "metadata": {},
     "output_type": "execute_result"
    }
   ],
   "source": [
    "mylist =  ['apple']\n",
    "mylist.append('orange')\n",
    "mylist"
   ]
  },
  {
   "cell_type": "code",
   "execution_count": 6,
   "metadata": {},
   "outputs": [
    {
     "name": "stdout",
     "output_type": "stream",
     "text": [
      "['apple', [...]]\n"
     ]
    }
   ],
   "source": [
    "mylist = ['apple']\n",
    "mylist.append(mylist)\n",
    "\n",
    "print(mylist) # [...] in Python is called a built-in ellipsis object. It is printed when an object has a cyclic reference"
   ]
  },
  {
   "cell_type": "markdown",
   "metadata": {},
   "source": [
    "16. __getattr__ vs. __getattribute__"
   ]
  },
  {
   "cell_type": "code",
   "execution_count": 11,
   "metadata": {},
   "outputs": [
    {
     "name": "stdout",
     "output_type": "stream",
     "text": [
      "rocky\n",
      "5\n",
      "__getattr__ is called: key='nickname'\n",
      "__getattr__ is called: key='gender'\n"
     ]
    }
   ],
   "source": [
    "#__getattr__ is called when an attribute that does not exist in an object is accessed.\n",
    "\n",
    "class Dog:\n",
    "  def __init__(self, name, age):\n",
    "    self.name, self.age = name, age\n",
    "\n",
    "  def __getattr__(self, key):\n",
    "    return f'__getattr__ is called: {key=}'\n",
    "\n",
    "dog = Dog('rocky', 5)\n",
    "# for existing attributes\n",
    "print(dog.name) # rocky\n",
    "print(dog.age) # 5\n",
    "# for non-existent attributes\n",
    "print(dog.nickname) # __getattr__ is called: key='nickname'\n",
    "print(dog.gender) # __getattr__ is called: key='gender'"
   ]
  },
  {
   "cell_type": "code",
   "execution_count": 14,
   "metadata": {},
   "outputs": [
    {
     "name": "stdout",
     "output_type": "stream",
     "text": [
      "__getattribute__ called: key='name'\n",
      "__getattribute__ called: key='age'\n",
      "__getattribute__ called: key='nickname'\n",
      "__getattribute__ called: key='gender'\n"
     ]
    }
   ],
   "source": [
    "#__getattribute__ is called when we access an attribute on object, regardless of its existience.\n",
    "\n",
    "class Dog:\n",
    "  def __init__(self, name, age):\n",
    "    self.name, self.age = name, age\n",
    "    \n",
    "  def __getattribute__(self, key):\n",
    "    return f'__getattribute__ called: {key=}'\n",
    "  \n",
    "dog = Dog('rocky', 5)\n",
    "\n",
    "print(dog.name) # __getattribute__ called: key='name'\n",
    "print(dog.age) # __getattribute__ called: key='age'\n",
    "# for non-existent attributes\n",
    "print(dog.nickname) # __getattribute__ called: key='nickname'\n",
    "print(dog.gender) # __getattribute__ called: key='gender"
   ]
  },
  {
   "cell_type": "markdown",
   "metadata": {},
   "source": [
    "17. why use __all__  : to control variables to be imported/exported"
   ]
  },
  {
   "cell_type": "code",
   "execution_count": 1,
   "metadata": {},
   "outputs": [],
   "source": [
    "# helper.py\n",
    "a = 'apple'\n",
    "b = 'orange'\n",
    "def test1():\n",
    "  print('test1 called')\n",
    "def test2():\n",
    "  print('test2 called')"
   ]
  },
  {
   "cell_type": "code",
   "execution_count": 1,
   "metadata": {},
   "outputs": [
    {
     "name": "stdout",
     "output_type": "stream",
     "text": [
      "apple\n"
     ]
    },
    {
     "ename": "NameError",
     "evalue": "name 'b' is not defined",
     "output_type": "error",
     "traceback": [
      "\u001b[1;31m---------------------------------------------------------------------------\u001b[0m",
      "\u001b[1;31mNameError\u001b[0m                                 Traceback (most recent call last)",
      "Cell \u001b[1;32mIn[1], line 6\u001b[0m\n\u001b[0;32m      3\u001b[0m \u001b[38;5;28;01mfrom\u001b[39;00m \u001b[38;5;21;01mhelper\u001b[39;00m \u001b[38;5;28;01mimport\u001b[39;00m \u001b[38;5;241m*\u001b[39m\n\u001b[0;32m      5\u001b[0m \u001b[38;5;28mprint\u001b[39m(a)\n\u001b[1;32m----> 6\u001b[0m \u001b[38;5;28mprint\u001b[39m(\u001b[43mb\u001b[49m)\n\u001b[0;32m      7\u001b[0m test1()\n\u001b[0;32m      8\u001b[0m test2()\n",
      "\u001b[1;31mNameError\u001b[0m: name 'b' is not defined"
     ]
    }
   ],
   "source": [
    "#main.py\n",
    "\n",
    "from helper import *\n",
    "\n",
    "print(a)\n",
    "print(b)\n",
    "test1()\n",
    "test2()\n"
   ]
  },
  {
   "cell_type": "markdown",
   "metadata": {},
   "source": [
    "18. @cache : Fibonacci example"
   ]
  },
  {
   "cell_type": "code",
   "execution_count": 2,
   "metadata": {},
   "outputs": [
    {
     "name": "stdout",
     "output_type": "stream",
     "text": [
      "1\n",
      "1\n",
      "2\n",
      "3\n",
      "5\n",
      "8\n",
      "13\n",
      "21\n"
     ]
    }
   ],
   "source": [
    "#without @cache:\n",
    "\n",
    "#method to get nth fibonacci number\n",
    "def fib(n):\n",
    "    if n <= 1:\n",
    "        return n\n",
    "    return fib(n-1) + fib(n-2)\n",
    "  \n",
    "print(fib(1)) # 0\n",
    "print(fib(2)) # 1\n",
    "print(fib(3)) # 1\n",
    "print(fib(4)) # 2\n",
    "print(fib(5)) # 3\n",
    "print(fib(6)) # 5\n",
    "print(fib(7)) # 8\n",
    "print(fib(8)) # 13\n",
    "\n",
    "\"\"\"\n",
    "# explanation : to keep things concise, fib(6) == f6\n",
    "f6 = f5 + f4\n",
    "= (f4 + f3) + (f3 + f2)\n",
    "# notice fib(3) is computed twice -> not ideal\n",
    "= ((f3+f2)+(f2+f1)) + ((f2+f1)+f2)\n",
    "# fib(3) is computed again\n",
    "= (((f2+f1)+f2)+(f2+f1)) + ((f2+f1)+f2)\n",
    "= (((1+0)+1)+(1+0)) + ((1+0)+1)\n",
    "= 5\n",
    "\"\"\""
   ]
  },
  {
   "cell_type": "code",
   "execution_count": 3,
   "metadata": {},
   "outputs": [
    {
     "name": "stdout",
     "output_type": "stream",
     "text": [
      "1\n",
      "1\n",
      "2\n",
      "3\n",
      "5\n",
      "8\n",
      "13\n",
      "21\n"
     ]
    },
    {
     "data": {
      "text/plain": [
       "'\\n# explanation: with @cache, each fib(n) is computed only once, then stored in cache for reuse\\n# much more efficient than computing same values repeatedly\\n'"
      ]
     },
     "execution_count": 3,
     "metadata": {},
     "output_type": "execute_result"
    }
   ],
   "source": [
    "#using @cache:\n",
    "\n",
    "from functools import cache\n",
    "\n",
    "@cache\n",
    "def fib(n):\n",
    "    if n <= 1:\n",
    "        return n\n",
    "    return fib(n-1) + fib(n-2)\n",
    "  \n",
    "print(fib(1)) # 0\n",
    "print(fib(2)) # 1\n",
    "print(fib(3)) # 1\n",
    "print(fib(4)) # 2\n",
    "print(fib(5)) # 3\n",
    "print(fib(6)) # 5\n",
    "print(fib(7)) # 8\n",
    "print(fib(8)) # 13\n",
    "\n",
    "\"\"\"\n",
    "# explanation: with @cache, each fib(n) is computed only once, then stored in cache for reuse\n",
    "# much more efficient than computing same values repeatedly\n",
    "\"\"\"\n"
   ]
  },
  {
   "cell_type": "markdown",
   "metadata": {},
   "source": [
    "19. if __name__ == '__main__' : why is it important?"
   ]
  },
  {
   "cell_type": "code",
   "execution_count": 5,
   "metadata": {},
   "outputs": [
    {
     "name": "stdout",
     "output_type": "stream",
     "text": [
      "test test test\n"
     ]
    }
   ],
   "source": [
    "# helper.py\n",
    "def helper_function():\n",
    "  print('helper function has been called')\n",
    "\n",
    "print('test test test')"
   ]
  },
  {
   "cell_type": "code",
   "execution_count": 6,
   "metadata": {},
   "outputs": [
    {
     "name": "stdout",
     "output_type": "stream",
     "text": [
      "helper function has been called\n"
     ]
    }
   ],
   "source": [
    "# main.py\n",
    "from helper import *\n",
    "helper_function()"
   ]
  }
 ],
 "metadata": {
  "kernelspec": {
   "display_name": "Python 3",
   "language": "python",
   "name": "python3"
  },
  "language_info": {
   "codemirror_mode": {
    "name": "ipython",
    "version": 3
   },
   "file_extension": ".py",
   "mimetype": "text/x-python",
   "name": "python",
   "nbconvert_exporter": "python",
   "pygments_lexer": "ipython3",
   "version": "3.12.2"
  }
 },
 "nbformat": 4,
 "nbformat_minor": 2
}
